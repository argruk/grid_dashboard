{
  "nbformat": 4,
  "nbformat_minor": 0,
  "metadata": {
    "colab": {
      "name": "P20 ML Project.ipynb",
      "provenance": [],
      "collapsed_sections": []
    },
    "kernelspec": {
      "name": "python3",
      "display_name": "Python 3"
    },
    "accelerator": "GPU"
  },
  "cells": [
    {
      "cell_type": "markdown",
      "metadata": {
        "id": "TafDxMx2m_FM"
      },
      "source": [
        "## Importing necessary libraries and the dataset"
      ]
    },
    {
      "cell_type": "code",
      "metadata": {
        "id": "16N1LwH0Us8K"
      },
      "source": [
        "# General stuff\n",
        "import pandas as pd\n",
        "import numpy as np\n",
        "import matplotlib.pyplot as plt\n",
        "\n",
        "# Mapping stuff\n",
        "!pip install chart_studio  &> /dev/null\n",
        "import chart_studio.plotly as py\n",
        "import chart_studio.tools as tl\n",
        "import plotly.graph_objs as go\n",
        "\n",
        "#Speed stuff\n",
        "from numba import jit"
      ],
      "execution_count": null,
      "outputs": []
    },
    {
      "cell_type": "code",
      "metadata": {
        "id": "QlBL1v3c_g-h"
      },
      "source": [
        "# Loading the Dataset\n",
        "!gdown --id 1YhGx9t9NccJVmx2gPkCOnb8vHkAsYH82  &> /dev/null\n",
        "!mkdir dataset  > /dev/null\n",
        "!unzip grid_data.zip -d dataset  > /dev/null\n",
        "data_path = '/content/dataset/'"
      ],
      "execution_count": null,
      "outputs": []
    },
    {
      "cell_type": "code",
      "metadata": {
        "id": "pC8tsiWZUid3"
      },
      "source": [
        "# Reading the useful csv files\n",
        "ev_history = pd.read_csv(data_path +'ev_history.csv')\n",
        "ev_home_locations = pd.read_csv(data_path +'ev_home_locations.csv')\n",
        "ev_models = pd.read_csv(data_path +'ev_models.csv')\n",
        "grid_locations = pd.read_csv(data_path +'grid_locations.csv')\n",
        "gridload = pd.read_csv(data_path +'gridload.csv')\n",
        "public_chargers_locations = pd.read_csv(data_path +'public_chargers_locations.csv')"
      ],
      "execution_count": null,
      "outputs": []
    },
    {
      "cell_type": "code",
      "metadata": {
        "id": "FT4o9SVjV-xY"
      },
      "source": [
        "# Calling this cell to drop extra index column \n",
        "ev_history.drop(['Unnamed: 0'],axis=1,inplace=True)\n",
        "ev_home_locations.drop(['Unnamed: 0'],axis=1,inplace=True)\n",
        "ev_models.drop(['Unnamed: 0'],axis=1,inplace=True)\n",
        "grid_locations.drop(['Unnamed: 0'],axis=1,inplace=True)\n",
        "gridload.drop(['Unnamed: 0'],axis=1,inplace=True)\n",
        "public_chargers_locations.drop(['Unnamed: 0'],axis=1,inplace=True)"
      ],
      "execution_count": null,
      "outputs": []
    },
    {
      "cell_type": "markdown",
      "metadata": {
        "id": "K2eScqclnFZZ"
      },
      "source": [
        "## Visualizing the grid and public charger locations"
      ]
    },
    {
      "cell_type": "code",
      "metadata": {
        "id": "oB-QC3yLy9S2"
      },
      "source": [
        "# Function is used when you have several points, and you want to style them differently for some reason.\n",
        "# it can later be added to data array of plot_points_to_map() function.\n",
        "def style_point(size, color, lat_,lon_):\n",
        "  return go.Scattermapbox(\n",
        "          lat=lat_,\n",
        "          lon=lon_,\n",
        "          mode='markers',\n",
        "          marker=dict(\n",
        "              size=size,\n",
        "              color=color,\n",
        "              opacity=1\n",
        "          ),\n",
        "          hoverinfo='text'\n",
        "      )"
      ],
      "execution_count": null,
      "outputs": []
    },
    {
      "cell_type": "code",
      "metadata": {
        "id": "GeniqFXOzzH_"
      },
      "source": [
        "# A simplified version of code below\n",
        "def plot_points(data_,mean_lat,mean_lon,loc_label=\"Tartu\",zoom_factor=10):\n",
        "\n",
        "  # Setting credentials stuff\n",
        "  tl.set_credentials_file(username='mlguystartu', api_key='27Rx41md4ADPEqWxwgUT')\n",
        "  mapbox_access_token = \"pk.eyJ1IjoibWxndXlzdGFydHUiLCJhIjoiY2tnemthNXRiMTRrdzJ6cjFmc2Jtc3RhNCJ9.xFd2wN_jhsTMxSxO3WAnPw\"\n",
        "\n",
        "  data=data_\n",
        "\n",
        "  layout = go.Layout(\n",
        "      title=loc_label,\n",
        "      autosize=True,\n",
        "      hovermode='closest',\n",
        "      showlegend=False,\n",
        "      mapbox=dict(\n",
        "          accesstoken=mapbox_access_token,\n",
        "          bearing=0,\n",
        "          center=dict(\n",
        "              lat=mean_lat,\n",
        "              lon=mean_lon\n",
        "          ),\n",
        "          pitch=0,\n",
        "          zoom=zoom_factor,\n",
        "          style='light'\n",
        "      ),\n",
        "  )\n",
        "    \n",
        "  # Generate the figure using the iplot function \n",
        "    \n",
        "  fig = dict(data=data, layout=layout)\n",
        "  return fig"
      ],
      "execution_count": null,
      "outputs": []
    },
    {
      "cell_type": "code",
      "metadata": {
        "id": "I2s6hlEPb_VY"
      },
      "source": [
        "###\n",
        "# Tutorial from https://colab.research.google.com/github/la-counts/data-adventures/blob/master/Instructable_6_How_to_Map_Geographic_Data_Using_Coordinates.ipynb#scrollTo=sxb7cAsfVNuY\n",
        "#\n",
        "# Params:\n",
        "#   site_lon - column for longitude\n",
        "#   site_lat - column for latitude\n",
        "#   locations_name - column for locations (one per row)\n",
        "# zoom_factor(optional) - factor by which we want to zoom the map\n",
        "###\n",
        "\n",
        "def plot_points_to_map(site_lon, site_lat, locations_name, loc_label, zoom_factor=10): \n",
        " \n",
        "  # Setting credentials stuff\n",
        "  tl.set_credentials_file(username='mlguystartu', api_key='27Rx41md4ADPEqWxwgUT')\n",
        "  mapbox_access_token = \"pk.eyJ1IjoibWxndXlzdGFydHUiLCJhIjoiY2tnemthNXRiMTRrdzJ6cjFmc2Jtc3RhNCJ9.xFd2wN_jhsTMxSxO3WAnPw\"\n",
        "\n",
        "  # Generate the data for the map \n",
        "  data = [\n",
        "      go.Scattermapbox(\n",
        "          lat=site_lat,\n",
        "          lon=site_lon,\n",
        "          mode='markers',\n",
        "          marker=dict(\n",
        "              size=3,\n",
        "              color='rgb(255, 0, 0)',\n",
        "              opacity=1\n",
        "          ),\n",
        "          text=locations_name,\n",
        "          hoverinfo='text'\n",
        "      ),\n",
        "      go.Scattermapbox(\n",
        "          lat=site_lat,\n",
        "          lon=site_lon,\n",
        "          mode='markers',\n",
        "          marker=dict(\n",
        "              size=8,\n",
        "              color='rgb(242, 177, 172)',\n",
        "              opacity=0.8\n",
        "          ),\n",
        "          hoverinfo='none'\n",
        "      )]\n",
        "\n",
        "\n",
        "  # Generate a layout around Los Angeles (well, no, it's Tartu), zoomed in so we can see the data points \n",
        "\n",
        "  layout = go.Layout(\n",
        "      title=loc_label,\n",
        "      autosize=True,\n",
        "      hovermode='closest',\n",
        "      showlegend=False,\n",
        "      mapbox=dict(\n",
        "          accesstoken=mapbox_access_token,\n",
        "          bearing=0,\n",
        "          center=dict(\n",
        "              lat=np.mean(site_lat),\n",
        "              lon=np.mean(site_lon)\n",
        "          ),\n",
        "          pitch=0,\n",
        "          zoom=zoom_factor,\n",
        "          style='light'\n",
        "      ),\n",
        "  )\n",
        "    \n",
        "  # Generate the figure using the iplot function \n",
        "    \n",
        "  fig = dict(data=data, layout=layout)\n",
        "  return fig\n",
        "  "
      ],
      "execution_count": null,
      "outputs": []
    },
    {
      "cell_type": "code",
      "metadata": {
        "id": "CxfkYvXPl4DK",
        "colab": {
          "base_uri": "https://localhost:8080/",
          "height": 546
        },
        "outputId": "f86df50f-019a-4ccf-8e43-9268c60939f0"
      },
      "source": [
        "fig = plot_points_to_map(grid_locations.longitude,grid_locations.latitude \\\n",
        "                         ,grid_locations.address,\"Grid locations\",zoom_factor=10.5)\n",
        "py.iplot(fig, filename='Grid locations')"
      ],
      "execution_count": null,
      "outputs": [
        {
          "output_type": "execute_result",
          "data": {
            "text/html": [
              "\n",
              "        <iframe\n",
              "            width=\"100%\"\n",
              "            height=\"525px\"\n",
              "            src=\"https://plotly.com/~mlguystartu/1.embed\"\n",
              "            frameborder=\"0\"\n",
              "            allowfullscreen\n",
              "        ></iframe>\n",
              "        "
            ],
            "text/plain": [
              "<IPython.lib.display.IFrame at 0x7f6abb26ec18>"
            ]
          },
          "metadata": {
            "tags": []
          },
          "execution_count": 8
        }
      ]
    },
    {
      "cell_type": "code",
      "metadata": {
        "id": "MTeYnp7JmrTJ",
        "colab": {
          "base_uri": "https://localhost:8080/",
          "height": 546
        },
        "outputId": "4774a7ee-1d47-4796-c981-ab52508499c3"
      },
      "source": [
        "fig = plot_points_to_map(public_chargers_locations.longitude \\\n",
        "                         ,public_chargers_locations.latitude,public_chargers_locations.address \\\n",
        "                         ,\"Public chargers locations\",zoom_factor=10.5)\n",
        "py.iplot(fig, filename='Public chargers locations')"
      ],
      "execution_count": null,
      "outputs": [
        {
          "output_type": "execute_result",
          "data": {
            "text/html": [
              "\n",
              "        <iframe\n",
              "            width=\"100%\"\n",
              "            height=\"525px\"\n",
              "            src=\"https://plotly.com/~mlguystartu/14.embed\"\n",
              "            frameborder=\"0\"\n",
              "            allowfullscreen\n",
              "        ></iframe>\n",
              "        "
            ],
            "text/plain": [
              "<IPython.lib.display.IFrame at 0x7f6aba9ca048>"
            ]
          },
          "metadata": {
            "tags": []
          },
          "execution_count": 9
        }
      ]
    },
    {
      "cell_type": "markdown",
      "metadata": {
        "id": "9jKo-OSAyfBx"
      },
      "source": [
        "## Analyzing the Dataset"
      ]
    },
    {
      "cell_type": "markdown",
      "metadata": {
        "id": "9RV2_2W3yhjo"
      },
      "source": [
        "This section is dedicated to analyzing the data obtained and modifying datasets to see the bigger picture and try to mannipulate the data."
      ]
    },
    {
      "cell_type": "markdown",
      "metadata": {
        "id": "_Wn79Aq67cec"
      },
      "source": [
        "### Counting hours spent at a certain location"
      ]
    },
    {
      "cell_type": "code",
      "metadata": {
        "id": "mQdmjWJ8f4GM",
        "colab": {
          "base_uri": "https://localhost:8080/",
          "height": 195
        },
        "outputId": "03625b81-8252-4b43-955b-a50962810d81"
      },
      "source": [
        "ev_home_locations.head()"
      ],
      "execution_count": null,
      "outputs": [
        {
          "output_type": "execute_result",
          "data": {
            "text/html": [
              "<div>\n",
              "<style scoped>\n",
              "    .dataframe tbody tr th:only-of-type {\n",
              "        vertical-align: middle;\n",
              "    }\n",
              "\n",
              "    .dataframe tbody tr th {\n",
              "        vertical-align: top;\n",
              "    }\n",
              "\n",
              "    .dataframe thead th {\n",
              "        text-align: right;\n",
              "    }\n",
              "</style>\n",
              "<table border=\"1\" class=\"dataframe\">\n",
              "  <thead>\n",
              "    <tr style=\"text-align: right;\">\n",
              "      <th></th>\n",
              "      <th>address</th>\n",
              "      <th>cadaster</th>\n",
              "      <th>latitude</th>\n",
              "      <th>longitude</th>\n",
              "      <th>x</th>\n",
              "      <th>y</th>\n",
              "    </tr>\n",
              "  </thead>\n",
              "  <tbody>\n",
              "    <tr>\n",
              "      <th>0</th>\n",
              "      <td>1, Kvissentali põik, Ülejõe, Tartu linn, Tartu...</td>\n",
              "      <td>79514:037:0033</td>\n",
              "      <td>58.406210</td>\n",
              "      <td>26.706300</td>\n",
              "      <td>6477173.28</td>\n",
              "      <td>658139.66</td>\n",
              "    </tr>\n",
              "    <tr>\n",
              "      <th>1</th>\n",
              "      <td>28b/1, Orava, Raadi-Kruusamäe, Tartu linn, Tar...</td>\n",
              "      <td>79512:036:0020</td>\n",
              "      <td>58.389311</td>\n",
              "      <td>26.737114</td>\n",
              "      <td>6475347.92</td>\n",
              "      <td>660042.39</td>\n",
              "    </tr>\n",
              "    <tr>\n",
              "      <th>2</th>\n",
              "      <td>16, Alevi, Karlova, Tartu linn, Tartu, Tartu l...</td>\n",
              "      <td>79508:016:0001</td>\n",
              "      <td>58.362547</td>\n",
              "      <td>26.726161</td>\n",
              "      <td>6472365.82</td>\n",
              "      <td>659521.12</td>\n",
              "    </tr>\n",
              "    <tr>\n",
              "      <th>3</th>\n",
              "      <td>37, Voolu, Variku, Tartu linn, Tartu, Tartu li...</td>\n",
              "      <td>79509:019:0003</td>\n",
              "      <td>58.346618</td>\n",
              "      <td>26.702650</td>\n",
              "      <td>6470513.21</td>\n",
              "      <td>658227.79</td>\n",
              "    </tr>\n",
              "    <tr>\n",
              "      <th>4</th>\n",
              "      <td>12, Ilmatsalu, Veeriku, Tartu linn, Tartu, Tar...</td>\n",
              "      <td>79502:006:0095</td>\n",
              "      <td>58.375785</td>\n",
              "      <td>26.690146</td>\n",
              "      <td>6473716.85</td>\n",
              "      <td>657353.49</td>\n",
              "    </tr>\n",
              "  </tbody>\n",
              "</table>\n",
              "</div>"
            ],
            "text/plain": [
              "                                             address  ...          y\n",
              "0  1, Kvissentali põik, Ülejõe, Tartu linn, Tartu...  ...  658139.66\n",
              "1  28b/1, Orava, Raadi-Kruusamäe, Tartu linn, Tar...  ...  660042.39\n",
              "2  16, Alevi, Karlova, Tartu linn, Tartu, Tartu l...  ...  659521.12\n",
              "3  37, Voolu, Variku, Tartu linn, Tartu, Tartu li...  ...  658227.79\n",
              "4  12, Ilmatsalu, Veeriku, Tartu linn, Tartu, Tar...  ...  657353.49\n",
              "\n",
              "[5 rows x 6 columns]"
            ]
          },
          "metadata": {
            "tags": []
          },
          "execution_count": 10
        }
      ]
    },
    {
      "cell_type": "code",
      "metadata": {
        "id": "acHJRj1xrMP-",
        "colab": {
          "base_uri": "https://localhost:8080/",
          "height": 195
        },
        "outputId": "4ecaccfa-c1f2-4a3b-d364-2145054790b5"
      },
      "source": [
        "public_chargers_locations.head()"
      ],
      "execution_count": null,
      "outputs": [
        {
          "output_type": "execute_result",
          "data": {
            "text/html": [
              "<div>\n",
              "<style scoped>\n",
              "    .dataframe tbody tr th:only-of-type {\n",
              "        vertical-align: middle;\n",
              "    }\n",
              "\n",
              "    .dataframe tbody tr th {\n",
              "        vertical-align: top;\n",
              "    }\n",
              "\n",
              "    .dataframe thead th {\n",
              "        text-align: right;\n",
              "    }\n",
              "</style>\n",
              "<table border=\"1\" class=\"dataframe\">\n",
              "  <thead>\n",
              "    <tr style=\"text-align: right;\">\n",
              "      <th></th>\n",
              "      <th>address</th>\n",
              "      <th>cadaster</th>\n",
              "      <th>latitude</th>\n",
              "      <th>longitude</th>\n",
              "      <th>x</th>\n",
              "      <th>y</th>\n",
              "    </tr>\n",
              "  </thead>\n",
              "  <tbody>\n",
              "    <tr>\n",
              "      <th>0</th>\n",
              "      <td>78, Tiigi, Kesklinn, Tartu linn, Tartu, Tartu ...</td>\n",
              "      <td>79506:006:0001</td>\n",
              "      <td>58.373603</td>\n",
              "      <td>26.710675</td>\n",
              "      <td>6473552.48</td>\n",
              "      <td>658596.39</td>\n",
              "    </tr>\n",
              "    <tr>\n",
              "      <th>1</th>\n",
              "      <td>30, Veski, Kesklinn, Tartu linn, Tartu, Tartu ...</td>\n",
              "      <td>79507:021:0003</td>\n",
              "      <td>58.378190</td>\n",
              "      <td>26.711309</td>\n",
              "      <td>6474073.17</td>\n",
              "      <td>658582.03</td>\n",
              "    </tr>\n",
              "    <tr>\n",
              "      <th>2</th>\n",
              "      <td>Heino Elleri nimeline Tartu Muusikakool, 15, L...</td>\n",
              "      <td>79507:019:0002</td>\n",
              "      <td>58.380050</td>\n",
              "      <td>26.717865</td>\n",
              "      <td>6474277.29</td>\n",
              "      <td>658997.44</td>\n",
              "    </tr>\n",
              "    <tr>\n",
              "      <th>3</th>\n",
              "      <td>20A, Sepa, Ropka tööstusrajoon, Tartu linn, Ta...</td>\n",
              "      <td>79511:002:0027</td>\n",
              "      <td>58.350656</td>\n",
              "      <td>26.729897</td>\n",
              "      <td>6471029.11</td>\n",
              "      <td>659793.82</td>\n",
              "    </tr>\n",
              "    <tr>\n",
              "      <th>4</th>\n",
              "      <td>7, Tamme põik, Tammelinn, Tartu linn, Tartu, T...</td>\n",
              "      <td>79504:053:0019</td>\n",
              "      <td>58.357376</td>\n",
              "      <td>26.695822</td>\n",
              "      <td>6471706.87</td>\n",
              "      <td>657778.20</td>\n",
              "    </tr>\n",
              "  </tbody>\n",
              "</table>\n",
              "</div>"
            ],
            "text/plain": [
              "                                             address  ...          y\n",
              "0  78, Tiigi, Kesklinn, Tartu linn, Tartu, Tartu ...  ...  658596.39\n",
              "1  30, Veski, Kesklinn, Tartu linn, Tartu, Tartu ...  ...  658582.03\n",
              "2  Heino Elleri nimeline Tartu Muusikakool, 15, L...  ...  658997.44\n",
              "3  20A, Sepa, Ropka tööstusrajoon, Tartu linn, Ta...  ...  659793.82\n",
              "4  7, Tamme põik, Tammelinn, Tartu linn, Tartu, T...  ...  657778.20\n",
              "\n",
              "[5 rows x 6 columns]"
            ]
          },
          "metadata": {
            "tags": []
          },
          "execution_count": 11
        }
      ]
    },
    {
      "cell_type": "code",
      "metadata": {
        "id": "QgaEOEwT29Yh",
        "colab": {
          "base_uri": "https://localhost:8080/",
          "height": 195
        },
        "outputId": "e32ff492-f795-41c3-be6d-4bf68ab4f2e6"
      },
      "source": [
        "ev_history.head()"
      ],
      "execution_count": null,
      "outputs": [
        {
          "output_type": "execute_result",
          "data": {
            "text/html": [
              "<div>\n",
              "<style scoped>\n",
              "    .dataframe tbody tr th:only-of-type {\n",
              "        vertical-align: middle;\n",
              "    }\n",
              "\n",
              "    .dataframe tbody tr th {\n",
              "        vertical-align: top;\n",
              "    }\n",
              "\n",
              "    .dataframe thead th {\n",
              "        text-align: right;\n",
              "    }\n",
              "</style>\n",
              "<table border=\"1\" class=\"dataframe\">\n",
              "  <thead>\n",
              "    <tr style=\"text-align: right;\">\n",
              "      <th></th>\n",
              "      <th>time</th>\n",
              "      <th>model</th>\n",
              "      <th>driving</th>\n",
              "      <th>connected</th>\n",
              "      <th>soc</th>\n",
              "      <th>charge_need</th>\n",
              "      <th>cadaster</th>\n",
              "    </tr>\n",
              "  </thead>\n",
              "  <tbody>\n",
              "    <tr>\n",
              "      <th>0</th>\n",
              "      <td>1</td>\n",
              "      <td>Volkswagen ID.3</td>\n",
              "      <td>False</td>\n",
              "      <td>True</td>\n",
              "      <td>36.250000</td>\n",
              "      <td>7.200000</td>\n",
              "      <td>79514:037:0033</td>\n",
              "    </tr>\n",
              "    <tr>\n",
              "      <th>1</th>\n",
              "      <td>2</td>\n",
              "      <td>Volkswagen ID.3</td>\n",
              "      <td>True</td>\n",
              "      <td>False</td>\n",
              "      <td>43.450000</td>\n",
              "      <td>0.000000</td>\n",
              "      <td>79514:037:0033</td>\n",
              "    </tr>\n",
              "    <tr>\n",
              "      <th>2</th>\n",
              "      <td>3</td>\n",
              "      <td>Volkswagen ID.3</td>\n",
              "      <td>False</td>\n",
              "      <td>True</td>\n",
              "      <td>40.799133</td>\n",
              "      <td>4.200867</td>\n",
              "      <td>79514:037:0033</td>\n",
              "    </tr>\n",
              "    <tr>\n",
              "      <th>3</th>\n",
              "      <td>4</td>\n",
              "      <td>Volkswagen ID.3</td>\n",
              "      <td>False</td>\n",
              "      <td>True</td>\n",
              "      <td>45.000000</td>\n",
              "      <td>0.000000</td>\n",
              "      <td>79514:037:0033</td>\n",
              "    </tr>\n",
              "    <tr>\n",
              "      <th>4</th>\n",
              "      <td>5</td>\n",
              "      <td>Volkswagen ID.3</td>\n",
              "      <td>False</td>\n",
              "      <td>True</td>\n",
              "      <td>45.000000</td>\n",
              "      <td>0.000000</td>\n",
              "      <td>79514:037:0033</td>\n",
              "    </tr>\n",
              "  </tbody>\n",
              "</table>\n",
              "</div>"
            ],
            "text/plain": [
              "   time            model  driving  ...        soc  charge_need        cadaster\n",
              "0     1  Volkswagen ID.3    False  ...  36.250000     7.200000  79514:037:0033\n",
              "1     2  Volkswagen ID.3     True  ...  43.450000     0.000000  79514:037:0033\n",
              "2     3  Volkswagen ID.3    False  ...  40.799133     4.200867  79514:037:0033\n",
              "3     4  Volkswagen ID.3    False  ...  45.000000     0.000000  79514:037:0033\n",
              "4     5  Volkswagen ID.3    False  ...  45.000000     0.000000  79514:037:0033\n",
              "\n",
              "[5 rows x 7 columns]"
            ]
          },
          "metadata": {
            "tags": []
          },
          "execution_count": 12
        }
      ]
    },
    {
      "cell_type": "code",
      "metadata": {
        "id": "a_9_hq8TR-ej",
        "colab": {
          "base_uri": "https://localhost:8080/",
          "height": 195
        },
        "outputId": "bef387f6-bb8a-479d-e4ae-4f6bcdb6690b"
      },
      "source": [
        "gridload.head()"
      ],
      "execution_count": null,
      "outputs": [
        {
          "output_type": "execute_result",
          "data": {
            "text/html": [
              "<div>\n",
              "<style scoped>\n",
              "    .dataframe tbody tr th:only-of-type {\n",
              "        vertical-align: middle;\n",
              "    }\n",
              "\n",
              "    .dataframe tbody tr th {\n",
              "        vertical-align: top;\n",
              "    }\n",
              "\n",
              "    .dataframe thead th {\n",
              "        text-align: right;\n",
              "    }\n",
              "</style>\n",
              "<table border=\"1\" class=\"dataframe\">\n",
              "  <thead>\n",
              "    <tr style=\"text-align: right;\">\n",
              "      <th></th>\n",
              "      <th>cadaster</th>\n",
              "      <th>time</th>\n",
              "      <th>baseload</th>\n",
              "    </tr>\n",
              "  </thead>\n",
              "  <tbody>\n",
              "    <tr>\n",
              "      <th>0</th>\n",
              "      <td>79511:003:0022</td>\n",
              "      <td>1</td>\n",
              "      <td>98.997612</td>\n",
              "    </tr>\n",
              "    <tr>\n",
              "      <th>1</th>\n",
              "      <td>79511:003:0022</td>\n",
              "      <td>2</td>\n",
              "      <td>104.894207</td>\n",
              "    </tr>\n",
              "    <tr>\n",
              "      <th>2</th>\n",
              "      <td>79511:003:0022</td>\n",
              "      <td>3</td>\n",
              "      <td>85.218661</td>\n",
              "    </tr>\n",
              "    <tr>\n",
              "      <th>3</th>\n",
              "      <td>79511:003:0022</td>\n",
              "      <td>4</td>\n",
              "      <td>98.941638</td>\n",
              "    </tr>\n",
              "    <tr>\n",
              "      <th>4</th>\n",
              "      <td>79511:003:0022</td>\n",
              "      <td>5</td>\n",
              "      <td>79.889267</td>\n",
              "    </tr>\n",
              "  </tbody>\n",
              "</table>\n",
              "</div>"
            ],
            "text/plain": [
              "         cadaster  time    baseload\n",
              "0  79511:003:0022     1   98.997612\n",
              "1  79511:003:0022     2  104.894207\n",
              "2  79511:003:0022     3   85.218661\n",
              "3  79511:003:0022     4   98.941638\n",
              "4  79511:003:0022     5   79.889267"
            ]
          },
          "metadata": {
            "tags": []
          },
          "execution_count": 13
        }
      ]
    },
    {
      "cell_type": "code",
      "metadata": {
        "id": "CBWc8ObqSyOK",
        "colab": {
          "base_uri": "https://localhost:8080/",
          "height": 195
        },
        "outputId": "45df2bb1-baef-42e1-ca6f-54bd420db8ef"
      },
      "source": [
        "grid_locations.head()"
      ],
      "execution_count": null,
      "outputs": [
        {
          "output_type": "execute_result",
          "data": {
            "text/html": [
              "<div>\n",
              "<style scoped>\n",
              "    .dataframe tbody tr th:only-of-type {\n",
              "        vertical-align: middle;\n",
              "    }\n",
              "\n",
              "    .dataframe tbody tr th {\n",
              "        vertical-align: top;\n",
              "    }\n",
              "\n",
              "    .dataframe thead th {\n",
              "        text-align: right;\n",
              "    }\n",
              "</style>\n",
              "<table border=\"1\" class=\"dataframe\">\n",
              "  <thead>\n",
              "    <tr style=\"text-align: right;\">\n",
              "      <th></th>\n",
              "      <th>address</th>\n",
              "      <th>cadaster</th>\n",
              "      <th>latitude</th>\n",
              "      <th>longitude</th>\n",
              "      <th>x</th>\n",
              "      <th>y</th>\n",
              "      <th>max_current</th>\n",
              "    </tr>\n",
              "  </thead>\n",
              "  <tbody>\n",
              "    <tr>\n",
              "      <th>0</th>\n",
              "      <td>2, Aardla, Ropka, Tartu linn, Tartu, Tartu lin...</td>\n",
              "      <td>79511:003:0022</td>\n",
              "      <td>58.355604</td>\n",
              "      <td>26.730697</td>\n",
              "      <td>6471601.92</td>\n",
              "      <td>659795.21</td>\n",
              "      <td>200</td>\n",
              "    </tr>\n",
              "    <tr>\n",
              "      <th>1</th>\n",
              "      <td>66, Peetri, Raadi-Kruusamäe, Tartu linn, Tartu...</td>\n",
              "      <td>79512:038:0009</td>\n",
              "      <td>58.390402</td>\n",
              "      <td>26.730959</td>\n",
              "      <td>6475470.49</td>\n",
              "      <td>659684.48</td>\n",
              "      <td>160</td>\n",
              "    </tr>\n",
              "    <tr>\n",
              "      <th>2</th>\n",
              "      <td>64, Metshaldja, Ihaste, Tartu linn, Tartu, Tar...</td>\n",
              "      <td>79517:014:0024</td>\n",
              "      <td>58.352182</td>\n",
              "      <td>26.777857</td>\n",
              "      <td>6471306.96</td>\n",
              "      <td>662602.18</td>\n",
              "      <td>160</td>\n",
              "    </tr>\n",
              "    <tr>\n",
              "      <th>3</th>\n",
              "      <td>11, Risti, Raadi-Kruusamäe, Tartu linn, Tartu,...</td>\n",
              "      <td>79512:029:0011</td>\n",
              "      <td>58.393000</td>\n",
              "      <td>26.724314</td>\n",
              "      <td>6475718.16</td>\n",
              "      <td>659262.11</td>\n",
              "      <td>60</td>\n",
              "    </tr>\n",
              "    <tr>\n",
              "      <th>4</th>\n",
              "      <td>8, Kristalli, Ränilinn, Tartu linn, Tartu, Tar...</td>\n",
              "      <td>79505:005:0079</td>\n",
              "      <td>58.349762</td>\n",
              "      <td>26.683184</td>\n",
              "      <td>6470844.17</td>\n",
              "      <td>657076.56</td>\n",
              "      <td>160</td>\n",
              "    </tr>\n",
              "  </tbody>\n",
              "</table>\n",
              "</div>"
            ],
            "text/plain": [
              "                                             address  ... max_current\n",
              "0  2, Aardla, Ropka, Tartu linn, Tartu, Tartu lin...  ...         200\n",
              "1  66, Peetri, Raadi-Kruusamäe, Tartu linn, Tartu...  ...         160\n",
              "2  64, Metshaldja, Ihaste, Tartu linn, Tartu, Tar...  ...         160\n",
              "3  11, Risti, Raadi-Kruusamäe, Tartu linn, Tartu,...  ...          60\n",
              "4  8, Kristalli, Ränilinn, Tartu linn, Tartu, Tar...  ...         160\n",
              "\n",
              "[5 rows x 7 columns]"
            ]
          },
          "metadata": {
            "tags": []
          },
          "execution_count": 14
        }
      ]
    },
    {
      "cell_type": "code",
      "metadata": {
        "id": "8KAw5gcn3F17",
        "colab": {
          "base_uri": "https://localhost:8080/",
          "height": 166
        },
        "outputId": "f884f33d-2fe2-4a09-f245-7cd7173be647"
      },
      "source": [
        "ev_models.head()"
      ],
      "execution_count": null,
      "outputs": [
        {
          "output_type": "execute_result",
          "data": {
            "text/html": [
              "<div>\n",
              "<style scoped>\n",
              "    .dataframe tbody tr th:only-of-type {\n",
              "        vertical-align: middle;\n",
              "    }\n",
              "\n",
              "    .dataframe tbody tr th {\n",
              "        vertical-align: top;\n",
              "    }\n",
              "\n",
              "    .dataframe thead th {\n",
              "        text-align: right;\n",
              "    }\n",
              "</style>\n",
              "<table border=\"1\" class=\"dataframe\">\n",
              "  <thead>\n",
              "    <tr style=\"text-align: right;\">\n",
              "      <th></th>\n",
              "      <th>models</th>\n",
              "      <th>battery_size</th>\n",
              "      <th>charge_power</th>\n",
              "      <th>efficiency</th>\n",
              "    </tr>\n",
              "  </thead>\n",
              "  <tbody>\n",
              "    <tr>\n",
              "      <th>0</th>\n",
              "      <td>Tesla Model S</td>\n",
              "      <td>72.5</td>\n",
              "      <td>16.5</td>\n",
              "      <td>0.175</td>\n",
              "    </tr>\n",
              "    <tr>\n",
              "      <th>1</th>\n",
              "      <td>Nissan Leaf e+</td>\n",
              "      <td>56.0</td>\n",
              "      <td>6.6</td>\n",
              "      <td>0.172</td>\n",
              "    </tr>\n",
              "    <tr>\n",
              "      <th>2</th>\n",
              "      <td>Renault Zoe</td>\n",
              "      <td>41.0</td>\n",
              "      <td>22.0</td>\n",
              "      <td>0.164</td>\n",
              "    </tr>\n",
              "    <tr>\n",
              "      <th>3</th>\n",
              "      <td>Volkswagen ID.3</td>\n",
              "      <td>45.0</td>\n",
              "      <td>7.2</td>\n",
              "      <td>0.161</td>\n",
              "    </tr>\n",
              "  </tbody>\n",
              "</table>\n",
              "</div>"
            ],
            "text/plain": [
              "            models  battery_size  charge_power  efficiency\n",
              "0    Tesla Model S          72.5          16.5       0.175\n",
              "1   Nissan Leaf e+          56.0           6.6       0.172\n",
              "2      Renault Zoe          41.0          22.0       0.164\n",
              "3  Volkswagen ID.3          45.0           7.2       0.161"
            ]
          },
          "metadata": {
            "tags": []
          },
          "execution_count": 15
        }
      ]
    },
    {
      "cell_type": "code",
      "metadata": {
        "id": "BsvlMTCCrWtw"
      },
      "source": [
        "public_chargers_locations_copy = public_chargers_locations.copy()\n",
        "ev_home_locations_copy = ev_home_locations.copy()\n",
        "\n",
        "business_chargers = []\n",
        "for i in public_chargers_locations_copy['cadaster']:\n",
        "  business_chargers.append(ev_history[ev_history['cadaster'] == i].shape[0])\n",
        "\n",
        "business_homes = []\n",
        "for i in ev_home_locations_copy['cadaster']:\n",
        "  business_homes.append(ev_history[ev_history['cadaster'] == i].shape[0])"
      ],
      "execution_count": null,
      "outputs": []
    },
    {
      "cell_type": "code",
      "metadata": {
        "id": "67PyhxfdyIyE"
      },
      "source": [
        "public_chargers_locations_copy['business'] = business_chargers\n",
        "ev_home_locations_copy['business'] = business_homes"
      ],
      "execution_count": null,
      "outputs": []
    },
    {
      "cell_type": "markdown",
      "metadata": {
        "id": "_XozvorUv-R-"
      },
      "source": [
        "The idea is to find out relations between units around the city and number of hours they are used. For example, we have a cadaster number 79506:006:0001. We know that for public locations, during the day there were two Renault Zoe, 7-18 each. So we can denote that this charger was used for 24 hours in total per day (2 cars, 12 hours each). This way, we may first see how \"busy\" are locations, and second learn how to match them by cadaster number. \n",
        "\n",
        "Here is how we could visualize this information:"
      ]
    },
    {
      "cell_type": "code",
      "metadata": {
        "id": "wwG-opV_1kRK"
      },
      "source": [
        "points = []\n",
        "# Let us find style points for public_chargers and home_locations\n",
        "for _,i in public_chargers_locations_copy.iterrows():\n",
        "  points.append(style_point(i['business']/3+1, 'rgb(200,20,20)',[i['latitude']],[i['longitude']]))\n",
        "\n",
        "for _,i in ev_home_locations_copy.iterrows():\n",
        "  points.append(style_point(i['business']/3+1, 'rgb(20,20,200)',[i['latitude']],[i['longitude']]))"
      ],
      "execution_count": null,
      "outputs": []
    },
    {
      "cell_type": "code",
      "metadata": {
        "id": "4WJg-4IQ3moS",
        "colab": {
          "base_uri": "https://localhost:8080/",
          "height": 546
        },
        "outputId": "e83dac8c-48e4-43b7-cf87-a470c57e5455"
      },
      "source": [
        "fig = plot_points(points,\n",
        "            np.mean(public_chargers_locations_copy['latitude']),\n",
        "            np.mean(public_chargers_locations_copy['longitude']))\n",
        "py.iplot(fig, filename='Chargers')"
      ],
      "execution_count": null,
      "outputs": [
        {
          "output_type": "execute_result",
          "data": {
            "text/html": [
              "\n",
              "        <iframe\n",
              "            width=\"100%\"\n",
              "            height=\"525px\"\n",
              "            src=\"https://plotly.com/~mlguystartu/20.embed\"\n",
              "            frameborder=\"0\"\n",
              "            allowfullscreen\n",
              "        ></iframe>\n",
              "        "
            ],
            "text/plain": [
              "<IPython.lib.display.IFrame at 0x7f6aba4954e0>"
            ]
          },
          "metadata": {
            "tags": []
          },
          "execution_count": 19
        }
      ]
    },
    {
      "cell_type": "markdown",
      "metadata": {
        "id": "_hDN1-Kc5szp"
      },
      "source": [
        "We could observe that the personal homes are more or less equally have autos, and that is indeed logical, since households have one car each. But for public chargers we can see a trend, where most cars prefer North-West of Tartu. Please note, the information presented only takes into account one day. It describes total number of hours used.\n",
        "\n",
        "To analyze the model further, we should incorporate the amount of electricity consumed on each point into the calculation of weight (size of a point) and see if the trend changes."
      ]
    },
    {
      "cell_type": "markdown",
      "metadata": {
        "id": "VEZQvl1C7iqP"
      },
      "source": [
        "### Adding power consumed to the equation"
      ]
    },
    {
      "cell_type": "markdown",
      "metadata": {
        "id": "JH_75iv772jH"
      },
      "source": [
        "Perhaps, the number of hours which was spent on a certain location wouldn't be as good as the power spent on specific location. Let us analyze these points with respect to total power. Here we will assume that all the charge that is needed is received from the charger in one hour (which is unrealistic, we don't know how much time exactly did the car spend charging, so we need to estimate this somehow further with respect to ability of car to intake charge):"
      ]
    },
    {
      "cell_type": "code",
      "metadata": {
        "id": "S_h8_S-H5uqz"
      },
      "source": [
        "charges_per_loc_public = []\n",
        "for cadaster in  public_chargers_locations_copy['cadaster']:\n",
        "  charge_per_loc = ev_history[\n",
        "                              (ev_history['cadaster'] == cadaster)\n",
        "                               & (ev_history['connected'] == True)\n",
        "                             ]['charge_need']\n",
        "  charges_per_loc_public.append(sum(charge_per_loc))\n",
        "\n",
        "public_chargers_locations_copy['charge_consumed'] = charges_per_loc_public\n",
        "\n",
        "charges_per_loc_home = []\n",
        "for cadaster in  ev_home_locations_copy['cadaster']:\n",
        "  charge_per_loc = ev_history[\n",
        "                              (ev_history['cadaster'] == cadaster)\n",
        "                               & (ev_history['connected'] == True)\n",
        "                             ]['charge_need']\n",
        "  charges_per_loc_home.append(sum(charge_per_loc))\n",
        "\n",
        "ev_home_locations_copy['charge_consumed'] = charges_per_loc_home"
      ],
      "execution_count": null,
      "outputs": []
    },
    {
      "cell_type": "code",
      "metadata": {
        "id": "1dkX7wr4-GRU"
      },
      "source": [
        "points = []\n",
        "\n",
        "for _,i in public_chargers_locations_copy.iterrows():\n",
        "  points.append(style_point(i['charge_consumed']/6+1, 'rgb(200,20,20)',[i['latitude']],[i['longitude']]))\n",
        "\n",
        "for _,i in ev_home_locations_copy.iterrows():\n",
        "  points.append(style_point(i['charge_consumed']/6+1, 'rgb(20,20,200)',[i['latitude']],[i['longitude']]))"
      ],
      "execution_count": null,
      "outputs": []
    },
    {
      "cell_type": "code",
      "metadata": {
        "id": "WTuI__7_-Q_f",
        "colab": {
          "base_uri": "https://localhost:8080/",
          "height": 546
        },
        "outputId": "9d78bea5-2ddd-472a-9aef-93026813167d"
      },
      "source": [
        "fig = plot_points(points,\n",
        "            np.mean(public_chargers_locations_copy['latitude']),\n",
        "            np.mean(public_chargers_locations_copy['longitude']))\n",
        "py.iplot(fig, filename='Chargers')"
      ],
      "execution_count": null,
      "outputs": [
        {
          "output_type": "execute_result",
          "data": {
            "text/html": [
              "\n",
              "        <iframe\n",
              "            width=\"100%\"\n",
              "            height=\"525px\"\n",
              "            src=\"https://plotly.com/~mlguystartu/20.embed\"\n",
              "            frameborder=\"0\"\n",
              "            allowfullscreen\n",
              "        ></iframe>\n",
              "        "
            ],
            "text/plain": [
              "<IPython.lib.display.IFrame at 0x7f6aba6cbd30>"
            ]
          },
          "metadata": {
            "tags": []
          },
          "execution_count": 22
        }
      ]
    },
    {
      "cell_type": "markdown",
      "metadata": {
        "id": "VRmZANop-eDy"
      },
      "source": [
        "Still, North-West of Tartu shows the same trend to be overloaded all the time. "
      ]
    },
    {
      "cell_type": "markdown",
      "metadata": {
        "id": "wCA8HqzSWE98"
      },
      "source": [
        "## Using Machine learning for prediction"
      ]
    },
    {
      "cell_type": "code",
      "metadata": {
        "id": "oG3FSOVMUvKa"
      },
      "source": [
        "# Distance function \n",
        "@jit\n",
        "def haversine_np(lon1, lat1, lon2, lat2):\n",
        "    lon1, lat1, lon2, lat2 = map(np.radians, [lon1, lat1, lon2, lat2])\n",
        "    dlon = lon2 - lon1\n",
        "    dlat = lat2 - lat1\n",
        "    a = np.sin(dlat/2.0)**2 + np.cos(lat1) * np.cos(lat2) * np.sin(dlon/2.0)**2\n",
        "    c = 2 * np.arcsin(np.sqrt(a))\n",
        "    km = 6367 * c\n",
        "    return km"
      ],
      "execution_count": null,
      "outputs": []
    },
    {
      "cell_type": "markdown",
      "metadata": {
        "id": "JpDW8-j4W-8C"
      },
      "source": [
        "### Preparing the dataset for task 1"
      ]
    },
    {
      "cell_type": "code",
      "metadata": {
        "id": "0_xyUnvwYiBB"
      },
      "source": [
        "all_charger_locations = pd.concat([ev_home_locations,public_chargers_locations],axis = 0).drop([\"x\",\"y\"],axis=1)"
      ],
      "execution_count": null,
      "outputs": []
    },
    {
      "cell_type": "code",
      "metadata": {
        "id": "pno3Knh6ZaQb"
      },
      "source": [
        "# Calculating the distance between the charger and the closest grid\n",
        "\n",
        "grid_cadasters = []\n",
        "for _,charger in all_charger_locations.iterrows():\n",
        "  all_distances = [haversine_np(charger['longitude'],charger['latitude'], grid['longitude'], grid['latitude']) for _,grid in grid_locations.iterrows()]\n",
        "  grid_idx = np.argmin(all_distances)\n",
        "  grid_cadasters.append(grid_locations.iloc[grid_idx][['cadaster','longitude','latitude']])\n",
        "\n",
        "all_charger_locations[['closest_grid','grid_longitude','grid_latitude']] = grid_cadasters"
      ],
      "execution_count": null,
      "outputs": []
    },
    {
      "cell_type": "code",
      "metadata": {
        "colab": {
          "base_uri": "https://localhost:8080/",
          "height": 195
        },
        "id": "emWtuzKcbfLk",
        "outputId": "274f2722-1b3a-4a55-a898-e6137babd252"
      },
      "source": [
        "all_charger_locations.head()"
      ],
      "execution_count": null,
      "outputs": [
        {
          "output_type": "execute_result",
          "data": {
            "text/html": [
              "<div>\n",
              "<style scoped>\n",
              "    .dataframe tbody tr th:only-of-type {\n",
              "        vertical-align: middle;\n",
              "    }\n",
              "\n",
              "    .dataframe tbody tr th {\n",
              "        vertical-align: top;\n",
              "    }\n",
              "\n",
              "    .dataframe thead th {\n",
              "        text-align: right;\n",
              "    }\n",
              "</style>\n",
              "<table border=\"1\" class=\"dataframe\">\n",
              "  <thead>\n",
              "    <tr style=\"text-align: right;\">\n",
              "      <th></th>\n",
              "      <th>address</th>\n",
              "      <th>cadaster</th>\n",
              "      <th>latitude</th>\n",
              "      <th>longitude</th>\n",
              "      <th>closest_grid</th>\n",
              "      <th>grid_longitude</th>\n",
              "      <th>grid_latitude</th>\n",
              "    </tr>\n",
              "  </thead>\n",
              "  <tbody>\n",
              "    <tr>\n",
              "      <th>0</th>\n",
              "      <td>1, Kvissentali põik, Ülejõe, Tartu linn, Tartu...</td>\n",
              "      <td>79514:037:0033</td>\n",
              "      <td>58.406210</td>\n",
              "      <td>26.706300</td>\n",
              "      <td>79514:037:0108</td>\n",
              "      <td>26.697076</td>\n",
              "      <td>58.403447</td>\n",
              "    </tr>\n",
              "    <tr>\n",
              "      <th>1</th>\n",
              "      <td>28b/1, Orava, Raadi-Kruusamäe, Tartu linn, Tar...</td>\n",
              "      <td>79512:036:0020</td>\n",
              "      <td>58.389311</td>\n",
              "      <td>26.737114</td>\n",
              "      <td>79512:038:0010</td>\n",
              "      <td>26.731004</td>\n",
              "      <td>58.390288</td>\n",
              "    </tr>\n",
              "    <tr>\n",
              "      <th>2</th>\n",
              "      <td>16, Alevi, Karlova, Tartu linn, Tartu, Tartu l...</td>\n",
              "      <td>79508:016:0001</td>\n",
              "      <td>58.362547</td>\n",
              "      <td>26.726161</td>\n",
              "      <td>79508:020:0022</td>\n",
              "      <td>26.726307</td>\n",
              "      <td>58.360031</td>\n",
              "    </tr>\n",
              "    <tr>\n",
              "      <th>3</th>\n",
              "      <td>37, Voolu, Variku, Tartu linn, Tartu, Tartu li...</td>\n",
              "      <td>79509:019:0003</td>\n",
              "      <td>58.346618</td>\n",
              "      <td>26.702650</td>\n",
              "      <td>79509:019:0001</td>\n",
              "      <td>26.702650</td>\n",
              "      <td>58.346618</td>\n",
              "    </tr>\n",
              "    <tr>\n",
              "      <th>4</th>\n",
              "      <td>12, Ilmatsalu, Veeriku, Tartu linn, Tartu, Tar...</td>\n",
              "      <td>79502:006:0095</td>\n",
              "      <td>58.375785</td>\n",
              "      <td>26.690146</td>\n",
              "      <td>79502:020:0001</td>\n",
              "      <td>26.687757</td>\n",
              "      <td>58.373693</td>\n",
              "    </tr>\n",
              "  </tbody>\n",
              "</table>\n",
              "</div>"
            ],
            "text/plain": [
              "                                             address  ... grid_latitude\n",
              "0  1, Kvissentali põik, Ülejõe, Tartu linn, Tartu...  ...     58.403447\n",
              "1  28b/1, Orava, Raadi-Kruusamäe, Tartu linn, Tar...  ...     58.390288\n",
              "2  16, Alevi, Karlova, Tartu linn, Tartu, Tartu l...  ...     58.360031\n",
              "3  37, Voolu, Variku, Tartu linn, Tartu, Tartu li...  ...     58.346618\n",
              "4  12, Ilmatsalu, Veeriku, Tartu linn, Tartu, Tar...  ...     58.373693\n",
              "\n",
              "[5 rows x 7 columns]"
            ]
          },
          "metadata": {
            "tags": []
          },
          "execution_count": 26
        }
      ]
    },
    {
      "cell_type": "markdown",
      "metadata": {
        "id": "e7WHcIQFk13C"
      },
      "source": [
        "## Visualizing the closest grids to the charger locations on the map"
      ]
    },
    {
      "cell_type": "code",
      "metadata": {
        "colab": {
          "base_uri": "https://localhost:8080/",
          "height": 546
        },
        "id": "l52ND5flcyl3",
        "outputId": "72e84002-c784-4668-9a5c-e26199720fa9"
      },
      "source": [
        "# 5 colors\n",
        "red = 'rgb(255,0,0)'\n",
        "green = 'rgb(0,255,0)'\n",
        "blue = 'rgb(0,0,255)'\n",
        "orange = 'rgb(255,105,0)'\n",
        "magenta = 'rgb(238,31,239)'\n",
        "pink = 'rgb(150,10,50)'\n",
        "\n",
        "colors = [red,green,blue,orange,magenta]\n",
        "points = []\n",
        "\n",
        "\n",
        "for i,charger in grid_locations.iterrows():\n",
        "    points.append(style_point(12,pink,[grid_locations.iloc[i]['latitude']],[grid_locations.iloc[i]['longitude']]))\n",
        "\n",
        "\n",
        "for i,color in enumerate(colors):\n",
        "  points.append(style_point(8,color,[all_charger_locations.iloc[i]['latitude']],[all_charger_locations.iloc[i]['longitude']]))\n",
        "  points.append(style_point(12,color,[all_charger_locations.iloc[i]['grid_latitude']],[all_charger_locations.iloc[i]['grid_longitude']]))\n",
        "\n",
        "\n",
        "fig = plot_points(points,np.mean(all_charger_locations['latitude']),np.mean(all_charger_locations['longitude']),zoom_factor=11)\n",
        "py.iplot(fig, filename='Chargers')"
      ],
      "execution_count": null,
      "outputs": [
        {
          "output_type": "execute_result",
          "data": {
            "text/html": [
              "\n",
              "        <iframe\n",
              "            width=\"100%\"\n",
              "            height=\"525px\"\n",
              "            src=\"https://plotly.com/~mlguystartu/20.embed\"\n",
              "            frameborder=\"0\"\n",
              "            allowfullscreen\n",
              "        ></iframe>\n",
              "        "
            ],
            "text/plain": [
              "<IPython.lib.display.IFrame at 0x7f6ab99d9c50>"
            ]
          },
          "metadata": {
            "tags": []
          },
          "execution_count": 27
        }
      ]
    },
    {
      "cell_type": "markdown",
      "metadata": {
        "id": "1vVLhpmwlv9n"
      },
      "source": [
        "# Calculate loads per hour for each grid to create training dataset"
      ]
    },
    {
      "cell_type": "code",
      "metadata": {
        "id": "RbelhHD6k8jj",
        "colab": {
          "base_uri": "https://localhost:8080/",
          "height": 195
        },
        "outputId": "6bdc9525-16da-42c5-dd33-f1096629d6a9"
      },
      "source": [
        "gridload.head()"
      ],
      "execution_count": null,
      "outputs": [
        {
          "output_type": "execute_result",
          "data": {
            "text/html": [
              "<div>\n",
              "<style scoped>\n",
              "    .dataframe tbody tr th:only-of-type {\n",
              "        vertical-align: middle;\n",
              "    }\n",
              "\n",
              "    .dataframe tbody tr th {\n",
              "        vertical-align: top;\n",
              "    }\n",
              "\n",
              "    .dataframe thead th {\n",
              "        text-align: right;\n",
              "    }\n",
              "</style>\n",
              "<table border=\"1\" class=\"dataframe\">\n",
              "  <thead>\n",
              "    <tr style=\"text-align: right;\">\n",
              "      <th></th>\n",
              "      <th>cadaster</th>\n",
              "      <th>time</th>\n",
              "      <th>baseload</th>\n",
              "    </tr>\n",
              "  </thead>\n",
              "  <tbody>\n",
              "    <tr>\n",
              "      <th>0</th>\n",
              "      <td>79511:003:0022</td>\n",
              "      <td>1</td>\n",
              "      <td>98.997612</td>\n",
              "    </tr>\n",
              "    <tr>\n",
              "      <th>1</th>\n",
              "      <td>79511:003:0022</td>\n",
              "      <td>2</td>\n",
              "      <td>104.894207</td>\n",
              "    </tr>\n",
              "    <tr>\n",
              "      <th>2</th>\n",
              "      <td>79511:003:0022</td>\n",
              "      <td>3</td>\n",
              "      <td>85.218661</td>\n",
              "    </tr>\n",
              "    <tr>\n",
              "      <th>3</th>\n",
              "      <td>79511:003:0022</td>\n",
              "      <td>4</td>\n",
              "      <td>98.941638</td>\n",
              "    </tr>\n",
              "    <tr>\n",
              "      <th>4</th>\n",
              "      <td>79511:003:0022</td>\n",
              "      <td>5</td>\n",
              "      <td>79.889267</td>\n",
              "    </tr>\n",
              "  </tbody>\n",
              "</table>\n",
              "</div>"
            ],
            "text/plain": [
              "         cadaster  time    baseload\n",
              "0  79511:003:0022     1   98.997612\n",
              "1  79511:003:0022     2  104.894207\n",
              "2  79511:003:0022     3   85.218661\n",
              "3  79511:003:0022     4   98.941638\n",
              "4  79511:003:0022     5   79.889267"
            ]
          },
          "metadata": {
            "tags": []
          },
          "execution_count": 28
        }
      ]
    },
    {
      "cell_type": "code",
      "metadata": {
        "colab": {
          "base_uri": "https://localhost:8080/",
          "height": 195
        },
        "id": "N8h-cZSgmKm9",
        "outputId": "d64058f2-8f04-4e31-f576-58d888a5422c"
      },
      "source": [
        "ev_history.head()"
      ],
      "execution_count": null,
      "outputs": [
        {
          "output_type": "execute_result",
          "data": {
            "text/html": [
              "<div>\n",
              "<style scoped>\n",
              "    .dataframe tbody tr th:only-of-type {\n",
              "        vertical-align: middle;\n",
              "    }\n",
              "\n",
              "    .dataframe tbody tr th {\n",
              "        vertical-align: top;\n",
              "    }\n",
              "\n",
              "    .dataframe thead th {\n",
              "        text-align: right;\n",
              "    }\n",
              "</style>\n",
              "<table border=\"1\" class=\"dataframe\">\n",
              "  <thead>\n",
              "    <tr style=\"text-align: right;\">\n",
              "      <th></th>\n",
              "      <th>time</th>\n",
              "      <th>model</th>\n",
              "      <th>driving</th>\n",
              "      <th>connected</th>\n",
              "      <th>soc</th>\n",
              "      <th>charge_need</th>\n",
              "      <th>cadaster</th>\n",
              "    </tr>\n",
              "  </thead>\n",
              "  <tbody>\n",
              "    <tr>\n",
              "      <th>0</th>\n",
              "      <td>1</td>\n",
              "      <td>Volkswagen ID.3</td>\n",
              "      <td>False</td>\n",
              "      <td>True</td>\n",
              "      <td>36.250000</td>\n",
              "      <td>7.200000</td>\n",
              "      <td>79514:037:0033</td>\n",
              "    </tr>\n",
              "    <tr>\n",
              "      <th>1</th>\n",
              "      <td>2</td>\n",
              "      <td>Volkswagen ID.3</td>\n",
              "      <td>True</td>\n",
              "      <td>False</td>\n",
              "      <td>43.450000</td>\n",
              "      <td>0.000000</td>\n",
              "      <td>79514:037:0033</td>\n",
              "    </tr>\n",
              "    <tr>\n",
              "      <th>2</th>\n",
              "      <td>3</td>\n",
              "      <td>Volkswagen ID.3</td>\n",
              "      <td>False</td>\n",
              "      <td>True</td>\n",
              "      <td>40.799133</td>\n",
              "      <td>4.200867</td>\n",
              "      <td>79514:037:0033</td>\n",
              "    </tr>\n",
              "    <tr>\n",
              "      <th>3</th>\n",
              "      <td>4</td>\n",
              "      <td>Volkswagen ID.3</td>\n",
              "      <td>False</td>\n",
              "      <td>True</td>\n",
              "      <td>45.000000</td>\n",
              "      <td>0.000000</td>\n",
              "      <td>79514:037:0033</td>\n",
              "    </tr>\n",
              "    <tr>\n",
              "      <th>4</th>\n",
              "      <td>5</td>\n",
              "      <td>Volkswagen ID.3</td>\n",
              "      <td>False</td>\n",
              "      <td>True</td>\n",
              "      <td>45.000000</td>\n",
              "      <td>0.000000</td>\n",
              "      <td>79514:037:0033</td>\n",
              "    </tr>\n",
              "  </tbody>\n",
              "</table>\n",
              "</div>"
            ],
            "text/plain": [
              "   time            model  driving  ...        soc  charge_need        cadaster\n",
              "0     1  Volkswagen ID.3    False  ...  36.250000     7.200000  79514:037:0033\n",
              "1     2  Volkswagen ID.3     True  ...  43.450000     0.000000  79514:037:0033\n",
              "2     3  Volkswagen ID.3    False  ...  40.799133     4.200867  79514:037:0033\n",
              "3     4  Volkswagen ID.3    False  ...  45.000000     0.000000  79514:037:0033\n",
              "4     5  Volkswagen ID.3    False  ...  45.000000     0.000000  79514:037:0033\n",
              "\n",
              "[5 rows x 7 columns]"
            ]
          },
          "metadata": {
            "tags": []
          },
          "execution_count": 29
        }
      ]
    },
    {
      "cell_type": "code",
      "metadata": {
        "id": "kxfmSTHipk8-"
      },
      "source": [
        "ev_history_filtered = ev_history.copy()\n",
        "\n",
        "connected_col = ev_history_filtered['connected']\n",
        "disconnected_idxs = connected_col.index[connected_col == False].tolist()\n",
        "ev_history_filtered.drop(disconnected_idxs, inplace=True)"
      ],
      "execution_count": null,
      "outputs": []
    },
    {
      "cell_type": "code",
      "metadata": {
        "id": "qiwnGK1lmNsI"
      },
      "source": [
        "grid_cadasters = []\n",
        "\n",
        "for i, entry in ev_history_filtered.iterrows():\n",
        "    grid_cadaster = all_charger_locations[all_charger_locations['cadaster'] == entry['cadaster']]['closest_grid'].iloc[0]\n",
        "    grid_cadasters.append(grid_cadaster)\n",
        "\n",
        "ev_history_filtered['grid_cadaster'] = grid_cadasters"
      ],
      "execution_count": null,
      "outputs": []
    },
    {
      "cell_type": "code",
      "metadata": {
        "id": "ooxl7NLCq_E6"
      },
      "source": [
        "grid_tmp = []\n",
        "grid_cadaster_tmp = []\n",
        "time_tmp = []\n",
        "totalc_tmp = []\n",
        "# 0 for lat, 1 for lon\n",
        "coordinates = [[],[]]\n",
        "for j, gc in grid_locations.iterrows():\n",
        "  for i in range(1, 25):\n",
        "    grid_tmp.append(j)\n",
        "    grid_cadaster_tmp.append(gc['cadaster'])\n",
        "    time_tmp.append(i)\n",
        "    coordinates[0].append(gc['latitude'])\n",
        "    coordinates[1].append(gc['longitude'])\n",
        "    totalc_tmp.append(np.sum(ev_history_filtered[(ev_history_filtered['time'] == i) & (ev_history_filtered['grid_cadaster'] == gc['cadaster'])]['charge_need']))"
      ],
      "execution_count": null,
      "outputs": []
    },
    {
      "cell_type": "code",
      "metadata": {
        "id": "8OfclvaSuYGZ",
        "colab": {
          "base_uri": "https://localhost:8080/",
          "height": 195
        },
        "outputId": "8a946702-0cc0-4f68-b65d-6794ca8e478c"
      },
      "source": [
        "dataset = pd.DataFrame()\n",
        "dataset['time'] = time_tmp\n",
        "dataset['grid'] = grid_tmp\n",
        "dataset['latitude'] = coordinates[0]\n",
        "dataset['longitude'] = coordinates[1]\n",
        "dataset['total_charge'] = totalc_tmp\n",
        "dataset['grid_cadaster'] = grid_cadaster_tmp\n",
        "\n",
        "dataset.head()"
      ],
      "execution_count": null,
      "outputs": [
        {
          "output_type": "execute_result",
          "data": {
            "text/html": [
              "<div>\n",
              "<style scoped>\n",
              "    .dataframe tbody tr th:only-of-type {\n",
              "        vertical-align: middle;\n",
              "    }\n",
              "\n",
              "    .dataframe tbody tr th {\n",
              "        vertical-align: top;\n",
              "    }\n",
              "\n",
              "    .dataframe thead th {\n",
              "        text-align: right;\n",
              "    }\n",
              "</style>\n",
              "<table border=\"1\" class=\"dataframe\">\n",
              "  <thead>\n",
              "    <tr style=\"text-align: right;\">\n",
              "      <th></th>\n",
              "      <th>time</th>\n",
              "      <th>grid</th>\n",
              "      <th>latitude</th>\n",
              "      <th>longitude</th>\n",
              "      <th>total_charge</th>\n",
              "      <th>grid_cadaster</th>\n",
              "    </tr>\n",
              "  </thead>\n",
              "  <tbody>\n",
              "    <tr>\n",
              "      <th>0</th>\n",
              "      <td>1</td>\n",
              "      <td>0</td>\n",
              "      <td>58.355604</td>\n",
              "      <td>26.730697</td>\n",
              "      <td>0.0</td>\n",
              "      <td>79511:003:0022</td>\n",
              "    </tr>\n",
              "    <tr>\n",
              "      <th>1</th>\n",
              "      <td>2</td>\n",
              "      <td>0</td>\n",
              "      <td>58.355604</td>\n",
              "      <td>26.730697</td>\n",
              "      <td>0.0</td>\n",
              "      <td>79511:003:0022</td>\n",
              "    </tr>\n",
              "    <tr>\n",
              "      <th>2</th>\n",
              "      <td>3</td>\n",
              "      <td>0</td>\n",
              "      <td>58.355604</td>\n",
              "      <td>26.730697</td>\n",
              "      <td>0.0</td>\n",
              "      <td>79511:003:0022</td>\n",
              "    </tr>\n",
              "    <tr>\n",
              "      <th>3</th>\n",
              "      <td>4</td>\n",
              "      <td>0</td>\n",
              "      <td>58.355604</td>\n",
              "      <td>26.730697</td>\n",
              "      <td>0.0</td>\n",
              "      <td>79511:003:0022</td>\n",
              "    </tr>\n",
              "    <tr>\n",
              "      <th>4</th>\n",
              "      <td>5</td>\n",
              "      <td>0</td>\n",
              "      <td>58.355604</td>\n",
              "      <td>26.730697</td>\n",
              "      <td>0.0</td>\n",
              "      <td>79511:003:0022</td>\n",
              "    </tr>\n",
              "  </tbody>\n",
              "</table>\n",
              "</div>"
            ],
            "text/plain": [
              "   time  grid   latitude  longitude  total_charge   grid_cadaster\n",
              "0     1     0  58.355604  26.730697           0.0  79511:003:0022\n",
              "1     2     0  58.355604  26.730697           0.0  79511:003:0022\n",
              "2     3     0  58.355604  26.730697           0.0  79511:003:0022\n",
              "3     4     0  58.355604  26.730697           0.0  79511:003:0022\n",
              "4     5     0  58.355604  26.730697           0.0  79511:003:0022"
            ]
          },
          "metadata": {
            "tags": []
          },
          "execution_count": 33
        }
      ]
    },
    {
      "cell_type": "code",
      "metadata": {
        "colab": {
          "base_uri": "https://localhost:8080/",
          "height": 284
        },
        "id": "4sWVlVtuvdum",
        "outputId": "d63a90ee-e22c-41c7-d9ee-ab5982cc13b2"
      },
      "source": [
        "dataset.describe()"
      ],
      "execution_count": null,
      "outputs": [
        {
          "output_type": "execute_result",
          "data": {
            "text/html": [
              "<div>\n",
              "<style scoped>\n",
              "    .dataframe tbody tr th:only-of-type {\n",
              "        vertical-align: middle;\n",
              "    }\n",
              "\n",
              "    .dataframe tbody tr th {\n",
              "        vertical-align: top;\n",
              "    }\n",
              "\n",
              "    .dataframe thead th {\n",
              "        text-align: right;\n",
              "    }\n",
              "</style>\n",
              "<table border=\"1\" class=\"dataframe\">\n",
              "  <thead>\n",
              "    <tr style=\"text-align: right;\">\n",
              "      <th></th>\n",
              "      <th>time</th>\n",
              "      <th>grid</th>\n",
              "      <th>latitude</th>\n",
              "      <th>longitude</th>\n",
              "      <th>total_charge</th>\n",
              "    </tr>\n",
              "  </thead>\n",
              "  <tbody>\n",
              "    <tr>\n",
              "      <th>count</th>\n",
              "      <td>1200.000000</td>\n",
              "      <td>1200.000000</td>\n",
              "      <td>1200.000000</td>\n",
              "      <td>1200.000000</td>\n",
              "      <td>1200.000000</td>\n",
              "    </tr>\n",
              "    <tr>\n",
              "      <th>mean</th>\n",
              "      <td>12.500000</td>\n",
              "      <td>24.500000</td>\n",
              "      <td>58.367714</td>\n",
              "      <td>26.726592</td>\n",
              "      <td>4.914399</td>\n",
              "    </tr>\n",
              "    <tr>\n",
              "      <th>std</th>\n",
              "      <td>6.925073</td>\n",
              "      <td>14.436886</td>\n",
              "      <td>0.017859</td>\n",
              "      <td>0.029212</td>\n",
              "      <td>9.930169</td>\n",
              "    </tr>\n",
              "    <tr>\n",
              "      <th>min</th>\n",
              "      <td>1.000000</td>\n",
              "      <td>0.000000</td>\n",
              "      <td>58.343786</td>\n",
              "      <td>26.681245</td>\n",
              "      <td>0.000000</td>\n",
              "    </tr>\n",
              "    <tr>\n",
              "      <th>25%</th>\n",
              "      <td>6.750000</td>\n",
              "      <td>12.000000</td>\n",
              "      <td>58.353122</td>\n",
              "      <td>26.707049</td>\n",
              "      <td>0.000000</td>\n",
              "    </tr>\n",
              "    <tr>\n",
              "      <th>50%</th>\n",
              "      <td>12.500000</td>\n",
              "      <td>24.500000</td>\n",
              "      <td>58.359886</td>\n",
              "      <td>26.723493</td>\n",
              "      <td>0.000000</td>\n",
              "    </tr>\n",
              "    <tr>\n",
              "      <th>75%</th>\n",
              "      <td>18.250000</td>\n",
              "      <td>37.000000</td>\n",
              "      <td>58.383861</td>\n",
              "      <td>26.732628</td>\n",
              "      <td>6.600000</td>\n",
              "    </tr>\n",
              "    <tr>\n",
              "      <th>max</th>\n",
              "      <td>24.000000</td>\n",
              "      <td>49.000000</td>\n",
              "      <td>58.403447</td>\n",
              "      <td>26.789745</td>\n",
              "      <td>87.200000</td>\n",
              "    </tr>\n",
              "  </tbody>\n",
              "</table>\n",
              "</div>"
            ],
            "text/plain": [
              "              time         grid     latitude    longitude  total_charge\n",
              "count  1200.000000  1200.000000  1200.000000  1200.000000   1200.000000\n",
              "mean     12.500000    24.500000    58.367714    26.726592      4.914399\n",
              "std       6.925073    14.436886     0.017859     0.029212      9.930169\n",
              "min       1.000000     0.000000    58.343786    26.681245      0.000000\n",
              "25%       6.750000    12.000000    58.353122    26.707049      0.000000\n",
              "50%      12.500000    24.500000    58.359886    26.723493      0.000000\n",
              "75%      18.250000    37.000000    58.383861    26.732628      6.600000\n",
              "max      24.000000    49.000000    58.403447    26.789745     87.200000"
            ]
          },
          "metadata": {
            "tags": []
          },
          "execution_count": 34
        }
      ]
    },
    {
      "cell_type": "markdown",
      "metadata": {
        "id": "j_doa8hS0Uc9"
      },
      "source": [
        "# TASK 1, to predict load for a grid/hour"
      ]
    },
    {
      "cell_type": "code",
      "metadata": {
        "colab": {
          "base_uri": "https://localhost:8080/",
          "height": 195
        },
        "id": "T2h2psOwUZpy",
        "outputId": "c0490a1e-47ab-4162-afa0-ad5d481c743d"
      },
      "source": [
        "dataset_modified = dataset.copy()\n",
        "base_loads = []\n",
        "max_loads = []\n",
        "total_cons = []\n",
        "\n",
        "for i, row in dataset_modified.iterrows():\n",
        "  base = gridload[(gridload['cadaster'] == row['grid_cadaster']) & (gridload['time'] == row['time'])]['baseload'].iloc[0]\n",
        "  max_ = grid_locations[(grid_locations['cadaster'] == row['grid_cadaster'])]['max_current'].iloc[0]\n",
        "  base_loads.append(base)\n",
        "  max_loads.append(max_)\n",
        "  total_cons.append(base + row['total_charge'])\n",
        "\n",
        "dataset_modified['base_load'] = base_loads\n",
        "dataset_modified['max_load'] = max_loads\n",
        "dataset_modified['actual_load'] = total_cons\n",
        "\n",
        "dataset_modified.head()"
      ],
      "execution_count": null,
      "outputs": [
        {
          "output_type": "execute_result",
          "data": {
            "text/html": [
              "<div>\n",
              "<style scoped>\n",
              "    .dataframe tbody tr th:only-of-type {\n",
              "        vertical-align: middle;\n",
              "    }\n",
              "\n",
              "    .dataframe tbody tr th {\n",
              "        vertical-align: top;\n",
              "    }\n",
              "\n",
              "    .dataframe thead th {\n",
              "        text-align: right;\n",
              "    }\n",
              "</style>\n",
              "<table border=\"1\" class=\"dataframe\">\n",
              "  <thead>\n",
              "    <tr style=\"text-align: right;\">\n",
              "      <th></th>\n",
              "      <th>time</th>\n",
              "      <th>grid</th>\n",
              "      <th>latitude</th>\n",
              "      <th>longitude</th>\n",
              "      <th>total_charge</th>\n",
              "      <th>grid_cadaster</th>\n",
              "      <th>base_load</th>\n",
              "      <th>max_load</th>\n",
              "      <th>actual_load</th>\n",
              "    </tr>\n",
              "  </thead>\n",
              "  <tbody>\n",
              "    <tr>\n",
              "      <th>0</th>\n",
              "      <td>1</td>\n",
              "      <td>0</td>\n",
              "      <td>58.355604</td>\n",
              "      <td>26.730697</td>\n",
              "      <td>0.0</td>\n",
              "      <td>79511:003:0022</td>\n",
              "      <td>98.997612</td>\n",
              "      <td>200</td>\n",
              "      <td>98.997612</td>\n",
              "    </tr>\n",
              "    <tr>\n",
              "      <th>1</th>\n",
              "      <td>2</td>\n",
              "      <td>0</td>\n",
              "      <td>58.355604</td>\n",
              "      <td>26.730697</td>\n",
              "      <td>0.0</td>\n",
              "      <td>79511:003:0022</td>\n",
              "      <td>104.894207</td>\n",
              "      <td>200</td>\n",
              "      <td>104.894207</td>\n",
              "    </tr>\n",
              "    <tr>\n",
              "      <th>2</th>\n",
              "      <td>3</td>\n",
              "      <td>0</td>\n",
              "      <td>58.355604</td>\n",
              "      <td>26.730697</td>\n",
              "      <td>0.0</td>\n",
              "      <td>79511:003:0022</td>\n",
              "      <td>85.218661</td>\n",
              "      <td>200</td>\n",
              "      <td>85.218661</td>\n",
              "    </tr>\n",
              "    <tr>\n",
              "      <th>3</th>\n",
              "      <td>4</td>\n",
              "      <td>0</td>\n",
              "      <td>58.355604</td>\n",
              "      <td>26.730697</td>\n",
              "      <td>0.0</td>\n",
              "      <td>79511:003:0022</td>\n",
              "      <td>98.941638</td>\n",
              "      <td>200</td>\n",
              "      <td>98.941638</td>\n",
              "    </tr>\n",
              "    <tr>\n",
              "      <th>4</th>\n",
              "      <td>5</td>\n",
              "      <td>0</td>\n",
              "      <td>58.355604</td>\n",
              "      <td>26.730697</td>\n",
              "      <td>0.0</td>\n",
              "      <td>79511:003:0022</td>\n",
              "      <td>79.889267</td>\n",
              "      <td>200</td>\n",
              "      <td>79.889267</td>\n",
              "    </tr>\n",
              "  </tbody>\n",
              "</table>\n",
              "</div>"
            ],
            "text/plain": [
              "   time  grid   latitude  ...   base_load  max_load actual_load\n",
              "0     1     0  58.355604  ...   98.997612       200   98.997612\n",
              "1     2     0  58.355604  ...  104.894207       200  104.894207\n",
              "2     3     0  58.355604  ...   85.218661       200   85.218661\n",
              "3     4     0  58.355604  ...   98.941638       200   98.941638\n",
              "4     5     0  58.355604  ...   79.889267       200   79.889267\n",
              "\n",
              "[5 rows x 9 columns]"
            ]
          },
          "metadata": {
            "tags": []
          },
          "execution_count": 35
        }
      ]
    },
    {
      "cell_type": "code",
      "metadata": {
        "colab": {
          "base_uri": "https://localhost:8080/"
        },
        "id": "aNqqATmmeMPx",
        "outputId": "05561697-5cb2-4bcd-af5b-a052354e6c72"
      },
      "source": [
        "from sklearn.model_selection import train_test_split\n",
        "from sklearn.ensemble import RandomForestRegressor\n",
        "from sklearn.ensemble import GradientBoostingRegressor\n",
        "from sklearn.experimental import enable_hist_gradient_boosting\n",
        "from sklearn.ensemble import HistGradientBoostingRegressor\n",
        "\n",
        "X = dataset_modified[['time', 'longitude', 'latitude', 'base_load', 'max_load']]\n",
        "y = dataset_modified['actual_load']\n",
        "\n",
        "X_train, X_test, y_train, y_test = train_test_split(X, y, test_size=0.2, random_state=42)\n",
        "\n",
        "rf = RandomForestRegressor()\n",
        "gbrt = GradientBoostingRegressor()\n",
        "hgbrt = HistGradientBoostingRegressor()\n",
        "\n",
        "rf.fit(X_train, y_train)\n",
        "gbrt.fit(X_train, y_train)\n",
        "hgbrt.fit(X_train, y_train)\n",
        "\n",
        "# Attribute score returns the R2 Score\n",
        "print(f\"RandomForestRegressor: {rf.score(X_test, y_test)}\\n\")\n",
        "print(f\"GradientBoostingRegressor: {gbrt.score(X_test, y_test)}\\n\")\n",
        "print(f\"HistGradientBoostingRegressor: {hgbrt.score(X_test, y_test)}\\n\")"
      ],
      "execution_count": null,
      "outputs": [
        {
          "output_type": "stream",
          "text": [
            "RandomForestRegressor: 0.9481725417798074\n",
            "\n",
            "GradientBoostingRegressor: 0.9621860787368463\n",
            "\n",
            "HistGradientBoostingRegressor: 0.9648008760734397\n",
            "\n"
          ],
          "name": "stdout"
        }
      ]
    },
    {
      "cell_type": "markdown",
      "metadata": {
        "id": "D2nk3HJQ7hnA"
      },
      "source": [
        "## Using Grid Search to tune Histogram-based / Gradient Boosting Regression Tree"
      ]
    },
    {
      "cell_type": "code",
      "metadata": {
        "colab": {
          "base_uri": "https://localhost:8080/"
        },
        "id": "NDVVMIyRBmZs",
        "outputId": "e5eb4c5d-0a3f-4dc2-e8f0-c254a3be4fee"
      },
      "source": [
        "# Tuning Gradient Boosting Regression Tree\n",
        "from sklearn.model_selection import GridSearchCV\n",
        "\n",
        "param_grid = {\n",
        "              \"learning_rate\": [0.1, 0.01, 0.001],\n",
        "              \"n_estimators\": [100, 200, 500],\n",
        "              \"max_depth\": [3, 5, 10, 20],\n",
        "              \"random_state\": [None, 42],\n",
        "              \"warm_start\": [False, True]\n",
        "}\n",
        "\n",
        "grbt = GradientBoostingRegressor()\n",
        "\n",
        "grid_search = GridSearchCV(estimator=gbrt, param_grid=param_grid, cv=3, n_jobs=-1, verbose=2) \n",
        "\n",
        "grid_search.fit(X_train, y_train)\n",
        "\n",
        "best_grid = grid_search.best_estimator_\n",
        "\n",
        "print(\"\")\n",
        "print(f\"The R2 score for GradientBoostingRegressor is: {best_grid.score(X_test, y_test) * 100} %\") "
      ],
      "execution_count": null,
      "outputs": [
        {
          "output_type": "stream",
          "text": [
            "Fitting 3 folds for each of 144 candidates, totalling 432 fits\n"
          ],
          "name": "stdout"
        },
        {
          "output_type": "stream",
          "text": [
            "[Parallel(n_jobs=-1)]: Using backend LokyBackend with 2 concurrent workers.\n",
            "[Parallel(n_jobs=-1)]: Done  37 tasks      | elapsed:    6.3s\n",
            "[Parallel(n_jobs=-1)]: Done 158 tasks      | elapsed:   28.8s\n",
            "[Parallel(n_jobs=-1)]: Done 361 tasks      | elapsed:  1.3min\n"
          ],
          "name": "stderr"
        },
        {
          "output_type": "stream",
          "text": [
            "\n",
            "The R2 score for GradientBoostingRegressor is: 96.24063409391387 %\n"
          ],
          "name": "stdout"
        },
        {
          "output_type": "stream",
          "text": [
            "[Parallel(n_jobs=-1)]: Done 432 out of 432 | elapsed:  1.8min finished\n"
          ],
          "name": "stderr"
        }
      ]
    },
    {
      "cell_type": "code",
      "metadata": {
        "colab": {
          "base_uri": "https://localhost:8080/"
        },
        "id": "TD7zqht73isW",
        "outputId": "d6d508aa-1fa7-4207-fbcd-7b05baf22288"
      },
      "source": [
        "# Histogram Gradient Boosting Tree\n",
        "\n",
        "param_grid = {\n",
        "              \"l2_regularization\": [0.0, 0.1, 0.2, 0.3],\n",
        "              \"learning_rate\": [0.1, 0.2, 0.3],\n",
        "              \"max_iter\": [100, 200],\n",
        "              \"max_depth\": [None, 100],\n",
        "              \"random_state\": [None, 42],\n",
        "              \"warm_start\": [False, True]\n",
        "}\n",
        "\n",
        "hgrbt = HistGradientBoostingRegressor()\n",
        "\n",
        "grid_search = GridSearchCV(estimator=hgbrt, param_grid=param_grid, cv=3, n_jobs=-1, verbose=2) \n",
        "\n",
        "grid_search.fit(X_train, y_train)\n",
        "\n",
        "grid_search.best_params_\n",
        "\n",
        "# Testing the Tuned HGBRT\n",
        "\n",
        "best_grid = grid_search.best_estimator_\n",
        "\n",
        "print(\"\")\n",
        "print(f\"The R2 score for HistGradientBoostingRegressor is: {best_grid.score(X_test, y_test) * 100} %\") "
      ],
      "execution_count": null,
      "outputs": [
        {
          "output_type": "stream",
          "text": [
            "[Parallel(n_jobs=-1)]: Using backend LokyBackend with 2 concurrent workers.\n"
          ],
          "name": "stderr"
        },
        {
          "output_type": "stream",
          "text": [
            "Fitting 3 folds for each of 192 candidates, totalling 576 fits\n"
          ],
          "name": "stdout"
        },
        {
          "output_type": "stream",
          "text": [
            "[Parallel(n_jobs=-1)]: Done  37 tasks      | elapsed:    7.6s\n",
            "[Parallel(n_jobs=-1)]: Done 158 tasks      | elapsed:   34.1s\n",
            "[Parallel(n_jobs=-1)]: Done 361 tasks      | elapsed:  1.3min\n",
            "[Parallel(n_jobs=-1)]: Done 576 out of 576 | elapsed:  2.1min finished\n"
          ],
          "name": "stderr"
        },
        {
          "output_type": "stream",
          "text": [
            "\n",
            "The R2 score for HistGradientBoostingRegressor is: 96.44016729774211 %\n"
          ],
          "name": "stdout"
        }
      ]
    },
    {
      "cell_type": "code",
      "metadata": {
        "id": "kOiZUVVD5nKm"
      },
      "source": [
        "# Checking whether we could use this model for backend\n",
        "# best_grid.predict(np.array(X_train.iloc[0]).reshape(1, -1))"
      ],
      "execution_count": null,
      "outputs": []
    },
    {
      "cell_type": "markdown",
      "metadata": {
        "id": "1NhL_bbdZ4Vk"
      },
      "source": [
        "## Save the tuned model using joblib for Backend"
      ]
    },
    {
      "cell_type": "code",
      "metadata": {
        "colab": {
          "base_uri": "https://localhost:8080/"
        },
        "id": "L9pb3Tm0nXRV",
        "outputId": "89b0ed7b-a8bc-4177-ffd7-650eb6279478"
      },
      "source": [
        "from google.colab import files\n",
        "import joblib\n",
        "\n",
        "filename = \"grid_load_predictor.sav\"\n",
        "joblib.dump(best_grid, filename)\n",
        "\n",
        "# Uncomment this stuff to download the model directly\n",
        "# files.download(\"/content/grid_load_predictor.sav\")"
      ],
      "execution_count": null,
      "outputs": [
        {
          "output_type": "execute_result",
          "data": {
            "text/plain": [
              "['grid_load_predictor.sav']"
            ]
          },
          "metadata": {
            "tags": []
          },
          "execution_count": 40
        }
      ]
    },
    {
      "cell_type": "code",
      "metadata": {
        "colab": {
          "base_uri": "https://localhost:8080/"
        },
        "id": "TNgpEHPnn45e",
        "outputId": "6f1b7902-d9c0-45c8-ed6e-f903983c9834"
      },
      "source": [
        "# To load the model \n",
        "\n",
        "task1 = joblib.load(filename)\n",
        "task1.score(X_test, y_test)"
      ],
      "execution_count": null,
      "outputs": [
        {
          "output_type": "execute_result",
          "data": {
            "text/plain": [
              "0.9644016729774211"
            ]
          },
          "metadata": {
            "tags": []
          },
          "execution_count": 41
        }
      ]
    },
    {
      "cell_type": "markdown",
      "metadata": {
        "id": "Q_LkC16mcamj"
      },
      "source": [
        "# TASK 2, SMART CARS AND CHARGERS "
      ]
    },
    {
      "cell_type": "markdown",
      "metadata": {
        "id": "Ai5fG9r9dJGC"
      },
      "source": [
        "Task: Develop a model for smart charging – a model that divides the electricity consumption of EVs such that the limits of the grid won’t be exceeded and all of the EV owners receive the similar experience.\n",
        "\n",
        "So here we could do the following for the overloaded grid:\n",
        "\n",
        "\n",
        "*   Check by how much is it overloaded, e.g. 10 kW\n",
        "*   Get all the chargers connected to this grid\n",
        "*   Predict the charge need on them and car model\n",
        "*   Optimize using this data\n",
        "\n",
        "\n"
      ]
    },
    {
      "cell_type": "code",
      "metadata": {
        "colab": {
          "base_uri": "https://localhost:8080/",
          "height": 195
        },
        "id": "_peExeZymiov",
        "outputId": "87fc4a35-c4c6-4981-acd8-f07cd7658f9d"
      },
      "source": [
        "all_charger_locations.head()"
      ],
      "execution_count": null,
      "outputs": [
        {
          "output_type": "execute_result",
          "data": {
            "text/html": [
              "<div>\n",
              "<style scoped>\n",
              "    .dataframe tbody tr th:only-of-type {\n",
              "        vertical-align: middle;\n",
              "    }\n",
              "\n",
              "    .dataframe tbody tr th {\n",
              "        vertical-align: top;\n",
              "    }\n",
              "\n",
              "    .dataframe thead th {\n",
              "        text-align: right;\n",
              "    }\n",
              "</style>\n",
              "<table border=\"1\" class=\"dataframe\">\n",
              "  <thead>\n",
              "    <tr style=\"text-align: right;\">\n",
              "      <th></th>\n",
              "      <th>address</th>\n",
              "      <th>cadaster</th>\n",
              "      <th>latitude</th>\n",
              "      <th>longitude</th>\n",
              "      <th>closest_grid</th>\n",
              "      <th>grid_longitude</th>\n",
              "      <th>grid_latitude</th>\n",
              "    </tr>\n",
              "  </thead>\n",
              "  <tbody>\n",
              "    <tr>\n",
              "      <th>0</th>\n",
              "      <td>1, Kvissentali põik, Ülejõe, Tartu linn, Tartu...</td>\n",
              "      <td>79514:037:0033</td>\n",
              "      <td>58.406210</td>\n",
              "      <td>26.706300</td>\n",
              "      <td>79514:037:0108</td>\n",
              "      <td>26.697076</td>\n",
              "      <td>58.403447</td>\n",
              "    </tr>\n",
              "    <tr>\n",
              "      <th>1</th>\n",
              "      <td>28b/1, Orava, Raadi-Kruusamäe, Tartu linn, Tar...</td>\n",
              "      <td>79512:036:0020</td>\n",
              "      <td>58.389311</td>\n",
              "      <td>26.737114</td>\n",
              "      <td>79512:038:0010</td>\n",
              "      <td>26.731004</td>\n",
              "      <td>58.390288</td>\n",
              "    </tr>\n",
              "    <tr>\n",
              "      <th>2</th>\n",
              "      <td>16, Alevi, Karlova, Tartu linn, Tartu, Tartu l...</td>\n",
              "      <td>79508:016:0001</td>\n",
              "      <td>58.362547</td>\n",
              "      <td>26.726161</td>\n",
              "      <td>79508:020:0022</td>\n",
              "      <td>26.726307</td>\n",
              "      <td>58.360031</td>\n",
              "    </tr>\n",
              "    <tr>\n",
              "      <th>3</th>\n",
              "      <td>37, Voolu, Variku, Tartu linn, Tartu, Tartu li...</td>\n",
              "      <td>79509:019:0003</td>\n",
              "      <td>58.346618</td>\n",
              "      <td>26.702650</td>\n",
              "      <td>79509:019:0001</td>\n",
              "      <td>26.702650</td>\n",
              "      <td>58.346618</td>\n",
              "    </tr>\n",
              "    <tr>\n",
              "      <th>4</th>\n",
              "      <td>12, Ilmatsalu, Veeriku, Tartu linn, Tartu, Tar...</td>\n",
              "      <td>79502:006:0095</td>\n",
              "      <td>58.375785</td>\n",
              "      <td>26.690146</td>\n",
              "      <td>79502:020:0001</td>\n",
              "      <td>26.687757</td>\n",
              "      <td>58.373693</td>\n",
              "    </tr>\n",
              "  </tbody>\n",
              "</table>\n",
              "</div>"
            ],
            "text/plain": [
              "                                             address  ... grid_latitude\n",
              "0  1, Kvissentali põik, Ülejõe, Tartu linn, Tartu...  ...     58.403447\n",
              "1  28b/1, Orava, Raadi-Kruusamäe, Tartu linn, Tar...  ...     58.390288\n",
              "2  16, Alevi, Karlova, Tartu linn, Tartu, Tartu l...  ...     58.360031\n",
              "3  37, Voolu, Variku, Tartu linn, Tartu, Tartu li...  ...     58.346618\n",
              "4  12, Ilmatsalu, Veeriku, Tartu linn, Tartu, Tar...  ...     58.373693\n",
              "\n",
              "[5 rows x 7 columns]"
            ]
          },
          "metadata": {
            "tags": []
          },
          "execution_count": 42
        }
      ]
    },
    {
      "cell_type": "code",
      "metadata": {
        "colab": {
          "base_uri": "https://localhost:8080/",
          "height": 195
        },
        "id": "wUD8ZZnQa-bq",
        "outputId": "3bd07717-a9ac-45c0-b485-bcff4ebe1275"
      },
      "source": [
        "ev_history_filtered.head()"
      ],
      "execution_count": null,
      "outputs": [
        {
          "output_type": "execute_result",
          "data": {
            "text/html": [
              "<div>\n",
              "<style scoped>\n",
              "    .dataframe tbody tr th:only-of-type {\n",
              "        vertical-align: middle;\n",
              "    }\n",
              "\n",
              "    .dataframe tbody tr th {\n",
              "        vertical-align: top;\n",
              "    }\n",
              "\n",
              "    .dataframe thead th {\n",
              "        text-align: right;\n",
              "    }\n",
              "</style>\n",
              "<table border=\"1\" class=\"dataframe\">\n",
              "  <thead>\n",
              "    <tr style=\"text-align: right;\">\n",
              "      <th></th>\n",
              "      <th>time</th>\n",
              "      <th>model</th>\n",
              "      <th>driving</th>\n",
              "      <th>connected</th>\n",
              "      <th>soc</th>\n",
              "      <th>charge_need</th>\n",
              "      <th>cadaster</th>\n",
              "      <th>grid_cadaster</th>\n",
              "    </tr>\n",
              "  </thead>\n",
              "  <tbody>\n",
              "    <tr>\n",
              "      <th>0</th>\n",
              "      <td>1</td>\n",
              "      <td>Volkswagen ID.3</td>\n",
              "      <td>False</td>\n",
              "      <td>True</td>\n",
              "      <td>36.250000</td>\n",
              "      <td>7.200000</td>\n",
              "      <td>79514:037:0033</td>\n",
              "      <td>79514:037:0108</td>\n",
              "    </tr>\n",
              "    <tr>\n",
              "      <th>2</th>\n",
              "      <td>3</td>\n",
              "      <td>Volkswagen ID.3</td>\n",
              "      <td>False</td>\n",
              "      <td>True</td>\n",
              "      <td>40.799133</td>\n",
              "      <td>4.200867</td>\n",
              "      <td>79514:037:0033</td>\n",
              "      <td>79514:037:0108</td>\n",
              "    </tr>\n",
              "    <tr>\n",
              "      <th>3</th>\n",
              "      <td>4</td>\n",
              "      <td>Volkswagen ID.3</td>\n",
              "      <td>False</td>\n",
              "      <td>True</td>\n",
              "      <td>45.000000</td>\n",
              "      <td>0.000000</td>\n",
              "      <td>79514:037:0033</td>\n",
              "      <td>79514:037:0108</td>\n",
              "    </tr>\n",
              "    <tr>\n",
              "      <th>4</th>\n",
              "      <td>5</td>\n",
              "      <td>Volkswagen ID.3</td>\n",
              "      <td>False</td>\n",
              "      <td>True</td>\n",
              "      <td>45.000000</td>\n",
              "      <td>0.000000</td>\n",
              "      <td>79514:037:0033</td>\n",
              "      <td>79514:037:0108</td>\n",
              "    </tr>\n",
              "    <tr>\n",
              "      <th>5</th>\n",
              "      <td>6</td>\n",
              "      <td>Volkswagen ID.3</td>\n",
              "      <td>False</td>\n",
              "      <td>True</td>\n",
              "      <td>45.000000</td>\n",
              "      <td>0.000000</td>\n",
              "      <td>79514:037:0033</td>\n",
              "      <td>79514:037:0108</td>\n",
              "    </tr>\n",
              "  </tbody>\n",
              "</table>\n",
              "</div>"
            ],
            "text/plain": [
              "   time            model  driving  ...  charge_need        cadaster   grid_cadaster\n",
              "0     1  Volkswagen ID.3    False  ...     7.200000  79514:037:0033  79514:037:0108\n",
              "2     3  Volkswagen ID.3    False  ...     4.200867  79514:037:0033  79514:037:0108\n",
              "3     4  Volkswagen ID.3    False  ...     0.000000  79514:037:0033  79514:037:0108\n",
              "4     5  Volkswagen ID.3    False  ...     0.000000  79514:037:0033  79514:037:0108\n",
              "5     6  Volkswagen ID.3    False  ...     0.000000  79514:037:0033  79514:037:0108\n",
              "\n",
              "[5 rows x 8 columns]"
            ]
          },
          "metadata": {
            "tags": []
          },
          "execution_count": 43
        }
      ]
    },
    {
      "cell_type": "code",
      "metadata": {
        "id": "KS6SkjS4ll94",
        "colab": {
          "base_uri": "https://localhost:8080/",
          "height": 195
        },
        "outputId": "2f7da246-4deb-48c3-9ffd-b41d1ea749ca"
      },
      "source": [
        "chargers_trainset = ev_history_filtered.copy()\r\n",
        "chargers_trainset.drop(['driving', 'connected', 'grid_cadaster'], axis=1, inplace=True)\r\n",
        "chargers_trainset['is_home_loc'] = chargers_trainset.cadaster.isin(ev_home_locations.cadaster).astype(bool)\r\n",
        "\r\n",
        "# sklearn doesn't support strings, so encode the EV models as so:\r\n",
        "car_models = {\r\n",
        "'Tesla Model S': 0,\r\n",
        "'Nissan Leaf e+' : 1,\r\n",
        "'Renault Zoe' : 2,\r\n",
        "'Volkswagen ID.3' : 3  \r\n",
        "}\r\n",
        "\r\n",
        "temp_lat = []\r\n",
        "temp_lon = []\r\n",
        "temp_mo_num = []\r\n",
        "temp_charge_power = []\r\n",
        "temp_battery_size = []\r\n",
        "\r\n",
        "for i, row in chargers_trainset.iterrows():\r\n",
        "  car_id = car_models[row['model']]\r\n",
        "  used_charger = all_charger_locations[all_charger_locations['cadaster'] == row['cadaster']].iloc[0]\r\n",
        "  temp_lat.append(used_charger['latitude'])\r\n",
        "  temp_lon.append(used_charger['longitude'])\r\n",
        "  temp_mo_num.append(car_id)\r\n",
        "  car_data = ev_models.iloc[car_id]\r\n",
        "  temp_charge_power.append(car_data['charge_power'])\r\n",
        "  temp_battery_size.append(car_data['battery_size'])\r\n",
        "\r\n",
        "chargers_trainset['latitude'] = temp_lat\r\n",
        "chargers_trainset['longitude'] = temp_lon\r\n",
        "chargers_trainset['model_numeric'] = temp_mo_num\r\n",
        "chargers_trainset[\"is_home_loc\"] = chargers_trainset[\"is_home_loc\"] * 1\r\n",
        "chargers_trainset['battery_size'] = temp_battery_size\r\n",
        "chargers_trainset['charge_power'] = temp_charge_power\r\n",
        "\r\n",
        "\r\n",
        "chargers_trainset.head()"
      ],
      "execution_count": null,
      "outputs": [
        {
          "output_type": "execute_result",
          "data": {
            "text/html": [
              "<div>\n",
              "<style scoped>\n",
              "    .dataframe tbody tr th:only-of-type {\n",
              "        vertical-align: middle;\n",
              "    }\n",
              "\n",
              "    .dataframe tbody tr th {\n",
              "        vertical-align: top;\n",
              "    }\n",
              "\n",
              "    .dataframe thead th {\n",
              "        text-align: right;\n",
              "    }\n",
              "</style>\n",
              "<table border=\"1\" class=\"dataframe\">\n",
              "  <thead>\n",
              "    <tr style=\"text-align: right;\">\n",
              "      <th></th>\n",
              "      <th>time</th>\n",
              "      <th>model</th>\n",
              "      <th>soc</th>\n",
              "      <th>charge_need</th>\n",
              "      <th>cadaster</th>\n",
              "      <th>is_home_loc</th>\n",
              "      <th>latitude</th>\n",
              "      <th>longitude</th>\n",
              "      <th>model_numeric</th>\n",
              "      <th>battery_size</th>\n",
              "      <th>charge_power</th>\n",
              "    </tr>\n",
              "  </thead>\n",
              "  <tbody>\n",
              "    <tr>\n",
              "      <th>0</th>\n",
              "      <td>1</td>\n",
              "      <td>Volkswagen ID.3</td>\n",
              "      <td>36.250000</td>\n",
              "      <td>7.200000</td>\n",
              "      <td>79514:037:0033</td>\n",
              "      <td>1</td>\n",
              "      <td>58.40621</td>\n",
              "      <td>26.7063</td>\n",
              "      <td>3</td>\n",
              "      <td>45.0</td>\n",
              "      <td>7.2</td>\n",
              "    </tr>\n",
              "    <tr>\n",
              "      <th>2</th>\n",
              "      <td>3</td>\n",
              "      <td>Volkswagen ID.3</td>\n",
              "      <td>40.799133</td>\n",
              "      <td>4.200867</td>\n",
              "      <td>79514:037:0033</td>\n",
              "      <td>1</td>\n",
              "      <td>58.40621</td>\n",
              "      <td>26.7063</td>\n",
              "      <td>3</td>\n",
              "      <td>45.0</td>\n",
              "      <td>7.2</td>\n",
              "    </tr>\n",
              "    <tr>\n",
              "      <th>3</th>\n",
              "      <td>4</td>\n",
              "      <td>Volkswagen ID.3</td>\n",
              "      <td>45.000000</td>\n",
              "      <td>0.000000</td>\n",
              "      <td>79514:037:0033</td>\n",
              "      <td>1</td>\n",
              "      <td>58.40621</td>\n",
              "      <td>26.7063</td>\n",
              "      <td>3</td>\n",
              "      <td>45.0</td>\n",
              "      <td>7.2</td>\n",
              "    </tr>\n",
              "    <tr>\n",
              "      <th>4</th>\n",
              "      <td>5</td>\n",
              "      <td>Volkswagen ID.3</td>\n",
              "      <td>45.000000</td>\n",
              "      <td>0.000000</td>\n",
              "      <td>79514:037:0033</td>\n",
              "      <td>1</td>\n",
              "      <td>58.40621</td>\n",
              "      <td>26.7063</td>\n",
              "      <td>3</td>\n",
              "      <td>45.0</td>\n",
              "      <td>7.2</td>\n",
              "    </tr>\n",
              "    <tr>\n",
              "      <th>5</th>\n",
              "      <td>6</td>\n",
              "      <td>Volkswagen ID.3</td>\n",
              "      <td>45.000000</td>\n",
              "      <td>0.000000</td>\n",
              "      <td>79514:037:0033</td>\n",
              "      <td>1</td>\n",
              "      <td>58.40621</td>\n",
              "      <td>26.7063</td>\n",
              "      <td>3</td>\n",
              "      <td>45.0</td>\n",
              "      <td>7.2</td>\n",
              "    </tr>\n",
              "  </tbody>\n",
              "</table>\n",
              "</div>"
            ],
            "text/plain": [
              "   time            model        soc  ...  model_numeric battery_size  charge_power\n",
              "0     1  Volkswagen ID.3  36.250000  ...              3         45.0           7.2\n",
              "2     3  Volkswagen ID.3  40.799133  ...              3         45.0           7.2\n",
              "3     4  Volkswagen ID.3  45.000000  ...              3         45.0           7.2\n",
              "4     5  Volkswagen ID.3  45.000000  ...              3         45.0           7.2\n",
              "5     6  Volkswagen ID.3  45.000000  ...              3         45.0           7.2\n",
              "\n",
              "[5 rows x 11 columns]"
            ]
          },
          "metadata": {
            "tags": []
          },
          "execution_count": 44
        }
      ]
    },
    {
      "cell_type": "markdown",
      "metadata": {
        "id": "8mQDuCEw77vR"
      },
      "source": [
        "## Model 0: Predicting the car model connected to the charger at a given time\r\n",
        "\r\n",
        "Classifying a model first helps to improve further predictions.\r\n",
        "\r\n"
      ]
    },
    {
      "cell_type": "code",
      "metadata": {
        "colab": {
          "base_uri": "https://localhost:8080/"
        },
        "id": "teFTFBbE8BhK",
        "outputId": "ae7d5fc5-d21a-4896-d471-b968796da875"
      },
      "source": [
        "from sklearn.ensemble import RandomForestClassifier\n",
        "from sklearn.ensemble import GradientBoostingClassifier\n",
        "from sklearn.linear_model import LogisticRegression\n",
        "from sklearn.experimental import enable_hist_gradient_boosting\n",
        "from sklearn.ensemble import VotingClassifier\n",
        "from sklearn.naive_bayes import GaussianNB\n",
        "from sklearn.svm import SVC\n",
        "from sklearn.ensemble import HistGradientBoostingClassifier\n",
        "\n",
        "X = chargers_trainset[['time', 'longitude', 'latitude', 'is_home_loc']]\n",
        "y = chargers_trainset['model_numeric']\n",
        "\n",
        "X_train, X_test, y_train, y_test = train_test_split(X, y, test_size=0.2, random_state=42)\n",
        "\n",
        "rfm = RandomForestClassifier()\n",
        "gbrt = GradientBoostingClassifier()\n",
        "hgbrt = HistGradientBoostingClassifier()\n",
        "\n",
        "clf1 = LogisticRegression(solver=\"newton-cg\", random_state=42)\n",
        "clf2 = GradientBoostingClassifier()\n",
        "clf3 = SVC(probability=True, gamma=\"scale\", random_state=42)\n",
        "clf4 = GaussianNB()\n",
        "\n",
        "voting_soft = VotingClassifier(estimators=[('lr', clf1), ('gbrt', clf2), ('gnb', clf4)], voting='soft')\n",
        "voting_hard = VotingClassifier(estimators=[('lr', clf1), ('gbrt', clf2), ('gnb', clf4)], voting='hard')\n",
        "\n",
        "rfm.fit(X_train, y_train)\n",
        "gbrt.fit(X_train, y_train)\n",
        "hgbrt.fit(X_train, y_train)\n",
        "voting_soft.fit(X_train, y_train)\n",
        "voting_hard.fit(X_train, y_train)\n",
        "\n",
        "\n",
        "print(f\"RandomForestClassifier: {rfm.score(X_test, y_test)}\\n\")\n",
        "print(f\"GradientBoostingClassifier: {gbrt.score(X_test, y_test)}\\n\")\n",
        "print(f\"HistGradientBoostingClassifier: {hgbrt.score(X_test, y_test)}\\n\")\n",
        "print(f\"VotingClassifier with Soft voting: {voting_soft.score(X_test, y_test)}\\n\")\n",
        "print(f\"VotingClassifier with Hard voting: {voting_hard.score(X_test, y_test)}\\n\")"
      ],
      "execution_count": null,
      "outputs": [
        {
          "output_type": "stream",
          "text": [
            "RandomForestClassifier: 0.7432432432432432\n",
            "\n",
            "GradientBoostingClassifier: 0.7871621621621622\n",
            "\n",
            "HistGradientBoostingClassifier: 0.7533783783783784\n",
            "\n",
            "VotingClassifier with Soft voting: 0.7871621621621622\n",
            "\n",
            "VotingClassifier with Hard voting: 0.41216216216216217\n",
            "\n"
          ],
          "name": "stdout"
        }
      ]
    },
    {
      "cell_type": "code",
      "metadata": {
        "colab": {
          "base_uri": "https://localhost:8080/"
        },
        "id": "JtGY-_86R2ei",
        "outputId": "736925d6-a3d0-4a3c-a4fb-f55762d245b0"
      },
      "source": [
        "_# Tuning Gradient Boosting Classifier\n",
        "\n",
        "from sklearn.model_selection import GridSearchCV\n",
        "\n",
        "param_grid = {\n",
        "              \"learning_rate\": [0.1, 0.2, 0.15],\n",
        "\n",
        "              \"max_depth\": [3, 5, 7, 10]\n",
        "}\n",
        "\n",
        "grbt = GradientBoostingClassifier()\n",
        "\n",
        "grid_search = GridSearchCV(estimator=gbrt, param_grid=param_grid) \n",
        "\n",
        "grid_search.fit(X_train, y_train)\n",
        "\n",
        "best_grid_car = grid_search.best_estimator_\n",
        "\n",
        "print(\"\")\n",
        "print(f\"Mean Accuracy GradientBoostingClassifier: {best_grid_car.score(X_test, y_test) * 100} %\") "
      ],
      "execution_count": null,
      "outputs": [
        {
          "output_type": "stream",
          "text": [
            "\n",
            "Mean Accuracy GradientBoostingClassifier: 80.06756756756756 %\n"
          ],
          "name": "stdout"
        }
      ]
    },
    {
      "cell_type": "code",
      "metadata": {
        "id": "ORdsHMlrXyju",
        "colab": {
          "base_uri": "https://localhost:8080/"
        },
        "outputId": "ac309492-18ad-47b4-fcf9-585e2ca767b7"
      },
      "source": [
        "# To Download Model 0: Car model predictor\n",
        "\n",
        "from google.colab import files\n",
        "import joblib\n",
        "\n",
        "filename = \"car_model_predictor.sav\"\n",
        "joblib.dump(best_grid_car, filename)\n",
        "\n",
        "# Uncomment this stuff to download the model directly\n",
        "# files.download(\"/content/car_model_predictor.sav\")"
      ],
      "execution_count": null,
      "outputs": [
        {
          "output_type": "execute_result",
          "data": {
            "text/plain": [
              "['car_model_predictor.sav']"
            ]
          },
          "metadata": {
            "tags": []
          },
          "execution_count": 47
        }
      ]
    },
    {
      "cell_type": "markdown",
      "metadata": {
        "id": "A2HuqxPAExwj"
      },
      "source": [
        "# Model 1: Predicting SOC of the car \r\n",
        "\r\n",
        "We are predicting soc because predicting charge need has accuracy of about 30%.\r\n"
      ]
    },
    {
      "cell_type": "code",
      "metadata": {
        "colab": {
          "base_uri": "https://localhost:8080/"
        },
        "id": "oQSROkWGE7Xw",
        "outputId": "679cfedf-3f9f-4190-f6be-aa6d17569f02"
      },
      "source": [
        "from sklearn.ensemble import RandomForestRegressor\n",
        "from sklearn.ensemble import GradientBoostingRegressor\n",
        "from sklearn.experimental import enable_hist_gradient_boosting\n",
        "from sklearn.ensemble import HistGradientBoostingRegressor\n",
        "\n",
        "X = chargers_trainset[['time', 'longitude', 'latitude', 'is_home_loc', 'battery_size', 'charge_power']]\n",
        "y = chargers_trainset['soc']\n",
        "\n",
        "X_train, X_test, y_train, y_test = train_test_split(X, y, test_size=0.2, random_state=42)\n",
        "\n",
        "rfs = RandomForestRegressor()\n",
        "gbrt = GradientBoostingRegressor()\n",
        "hgbrt = HistGradientBoostingRegressor()\n",
        "\n",
        "rfs.fit(X_train, y_train)\n",
        "gbrt.fit(X_train, y_train)\n",
        "hgbrt.fit(X_train, y_train)\n",
        "\n",
        "print(f\"RandomForestRegressor: {rfs.score(X_test, y_test)}\\n\")\n",
        "print(f\"GradientBoostingRegressor: {gbrt.score(X_test, y_test)}\\n\")\n",
        "print(f\"HistGradientBoostingRegressor: {hgbrt.score(X_test, y_test)}\\n\")"
      ],
      "execution_count": null,
      "outputs": [
        {
          "output_type": "stream",
          "text": [
            "RandomForestRegressor: 0.7391373494335747\n",
            "\n",
            "GradientBoostingRegressor: 0.7142003620805752\n",
            "\n",
            "HistGradientBoostingRegressor: 0.7322326331790331\n",
            "\n"
          ],
          "name": "stdout"
        }
      ]
    },
    {
      "cell_type": "code",
      "metadata": {
        "id": "TE7-U2OgT-ZO",
        "colab": {
          "base_uri": "https://localhost:8080/"
        },
        "outputId": "c015e69e-cdd2-4605-e7a7-0e3b81fadeb1"
      },
      "source": [
        "# Histogram Gradient Boosting Tree\n",
        "\n",
        "param_grid = {\n",
        "              \"l2_regularization\": [0.0, 0.1, 0.2, 0.3],\n",
        "              \"learning_rate\": [0.1, 0.2, 0.3],\n",
        "              \"max_iter\": [100, 200],\n",
        "              \"max_depth\": [None, 100],\n",
        "              \"random_state\": [None, 42],\n",
        "              \"warm_start\": [False, True]\n",
        "}\n",
        "\n",
        "hgrbt = HistGradientBoostingRegressor()\n",
        "\n",
        "grid_search = GridSearchCV(estimator=hgbrt, param_grid=param_grid) \n",
        "\n",
        "grid_search.fit(X_train, y_train)\n",
        "\n",
        "grid_search.best_params_\n",
        "\n",
        "# Testing the Tuned HGBRT\n",
        "\n",
        "best_grid = grid_search.best_estimator_\n",
        "\n",
        "print(\"\")\n",
        "print(f\"The R2 score for HistGradientBoostingRegressor is: {best_grid.score(X_test, y_test) * 100} %\") "
      ],
      "execution_count": null,
      "outputs": [
        {
          "output_type": "stream",
          "text": [
            "\n",
            "The R2 score for HistGradientBoostingRegressor is: 73.37956980546763 %\n"
          ],
          "name": "stdout"
        }
      ]
    },
    {
      "cell_type": "code",
      "metadata": {
        "id": "qBRDkKOCWRnl",
        "colab": {
          "base_uri": "https://localhost:8080/"
        },
        "outputId": "20f098c3-c72f-40be-a0b6-89979675f421"
      },
      "source": [
        "# Random Forest Tree\n",
        "\n",
        "param_grid = {\n",
        "              \"n_estimators\": [100, 150, 200],\n",
        "              \"max_depth\": [None, 10, 20],\n",
        "              \"warm_start\": [False, True]\n",
        "}\n",
        "\n",
        "rfs = RandomForestRegressor()\n",
        "\n",
        "grid_search2 = GridSearchCV(estimator=rf, param_grid=param_grid) \n",
        "\n",
        "grid_search2.fit(X_train, y_train)\n",
        "\n",
        "grid_search2.best_params_\n",
        "\n",
        "# Testing the Tuned HGBRT\n",
        "\n",
        "best_grid2 = grid_search2.best_estimator_\n",
        "\n",
        "print(\"\")\n",
        "print(f\"The R2 score for RandomForestRegressor is: {best_grid2.score(X_test, y_test) * 100} %\") "
      ],
      "execution_count": null,
      "outputs": [
        {
          "output_type": "stream",
          "text": [
            "\n",
            "The R2 score for RandomForestRegressor is: 73.69630939223207 %\n"
          ],
          "name": "stdout"
        }
      ]
    },
    {
      "cell_type": "code",
      "metadata": {
        "id": "VyB3InUmYFI3"
      },
      "source": [
        "# To download Model 1: SOC predictor\n",
        "\n",
        "from google.colab import files\n",
        "import joblib\n",
        "\n",
        "filename = \"soc_predictor.sav\"\n",
        "joblib.dump(hgbrt, filename) # Use hgbrt as it's more consistent (R2 score)\n",
        " \n",
        "# Uncomment this stuff to download the model directly\n",
        "# files.download(\"/content/soc_predictor.sav\")"
      ],
      "execution_count": null,
      "outputs": []
    },
    {
      "cell_type": "markdown",
      "metadata": {
        "id": "eAD_je7Q5kbS"
      },
      "source": [
        "## Model 2: Predicting the consumption on a charger at a given time\n",
        "\n",
        "**Not used because this can actually be calcualted.**"
      ]
    },
    {
      "cell_type": "code",
      "metadata": {
        "id": "NmhOh4qv5jkV",
        "colab": {
          "base_uri": "https://localhost:8080/"
        },
        "outputId": "ff89f1fd-14c8-4ec4-e419-229ee3333478"
      },
      "source": [
        "from sklearn.ensemble import RandomForestRegressor\n",
        "from sklearn.ensemble import GradientBoostingRegressor\n",
        "from sklearn.experimental import enable_hist_gradient_boosting\n",
        "from sklearn.ensemble import HistGradientBoostingRegressor\n",
        "\n",
        "X = chargers_trainset[['time', 'longitude', 'latitude', 'soc']]\n",
        "y = chargers_trainset['charge_need']\n",
        "\n",
        "X_train, X_test, y_train, y_test = train_test_split(X, y, test_size=0.2, random_state=42)\n",
        "\n",
        "rfc = RandomForestRegressor()\n",
        "gbrt = GradientBoostingRegressor()\n",
        "hgbrt = HistGradientBoostingRegressor()\n",
        "\n",
        "rfc.fit(X_train, y_train)\n",
        "gbrt.fit(X_train, y_train)\n",
        "hgbrt.fit(X_train, y_train)\n",
        "\n",
        "print(f\"RandomForestRegressor: {rfc.score(X_test, y_test)}\\n\")\n",
        "print(f\"GradientBoostingRegressor: {gbrt.score(X_test, y_test)}\\n\")\n",
        "print(f\"HistGradientBoostingRegressor: {hgbrt.score(X_test, y_test)}\\n\")"
      ],
      "execution_count": null,
      "outputs": [
        {
          "output_type": "stream",
          "text": [
            "RandomForestRegressor: 0.7866483492408616\n",
            "\n",
            "GradientBoostingRegressor: 0.7755378885638127\n",
            "\n",
            "HistGradientBoostingRegressor: 0.7854759642608506\n",
            "\n"
          ],
          "name": "stdout"
        }
      ]
    },
    {
      "cell_type": "code",
      "metadata": {
        "id": "qoMPHKyXYO_E",
        "colab": {
          "base_uri": "https://localhost:8080/"
        },
        "outputId": "26a26cce-a12b-4d1a-b2fe-7e45306e8c33"
      },
      "source": [
        "# To download Model 2: Consumption Predictor\n",
        "\n",
        "from google.colab import files\n",
        "import joblib\n",
        "\n",
        "filename = \"consumption_predictor.sav\"\n",
        "joblib.dump(hgbrt, filename)\n",
        "\n",
        "# Uncomment this stuff to download the model directly\n",
        "# files.download(\"/content/consumption_predictor.sav\")"
      ],
      "execution_count": null,
      "outputs": [
        {
          "output_type": "execute_result",
          "data": {
            "text/plain": [
              "['consumption_predictor.sav']"
            ]
          },
          "metadata": {
            "tags": []
          },
          "execution_count": 53
        }
      ]
    },
    {
      "cell_type": "markdown",
      "metadata": {
        "id": "hm6BqWOtYYb-"
      },
      "source": [
        "# Whole pipeline testing"
      ]
    },
    {
      "cell_type": "code",
      "metadata": {
        "id": "Rws2A2zEVE9X",
        "colab": {
          "base_uri": "https://localhost:8080/"
        },
        "outputId": "1f48f33f-6939-4752-c9cc-4f2cdd0adbe0"
      },
      "source": [
        "from sklearn.metrics import r2_score, max_error, mean_absolute_error\n",
        "\n",
        "test_set = chargers_trainset.copy()\n",
        "test_set['pred_model_num'] = best_grid_car.predict(test_set[['time', 'longitude', 'latitude', 'is_home_loc']])\n",
        "\n",
        "tmp_bat = []\n",
        "tmp_cp = []\n",
        "\n",
        "for i, row in test_set.iterrows():\n",
        "  predicted_model = row['pred_model_num']\n",
        "  tmp_bat.append(ev_models.iloc[int(predicted_model)]['battery_size'])\n",
        "  tmp_cp.append(ev_models.iloc[int(predicted_model)]['charge_power'])\n",
        "\n",
        "\n",
        "test_set['pred_bat_size'] = tmp_bat\n",
        "test_set['pred_charge_power'] = tmp_cp\n",
        "test_set['pred_soc'] = rfs.predict(test_set[['time', 'longitude', 'latitude', 'is_home_loc', 'pred_bat_size', 'pred_charge_power']])\n",
        "\n",
        "tmp_need = []\n",
        "\n",
        "for i, row in test_set.iterrows():\n",
        "  tmp_need.append(min(row['pred_bat_size'] - row['pred_soc'], row['pred_charge_power']))\n",
        "\n",
        "test_set['pred_charge_need'] = tmp_need\n",
        "test_set['bad_ml'] = rfc.predict(test_set[['time', 'longitude', 'latitude', 'pred_soc']])\n",
        "\n",
        "print('\\n Calculating charge need using predicted soc\\n')\n",
        "print('R2: ', r2_score(test_set[['charge_need']], test_set[['pred_charge_need']]))\n",
        "print('Max error: ',max_error(test_set[['charge_need']], test_set[['pred_charge_need']]))\n",
        "print('Mean abs error: ',mean_absolute_error(test_set[['charge_need']], test_set[['pred_charge_need']]))\n",
        "\n",
        "print('\\n Predicting charge need using ML\\n')\n",
        "print('R2: ',r2_score(test_set[['charge_need']], test_set[['bad_ml']]))\n",
        "print('Max error: ',max_error(test_set[['charge_need']], test_set[['bad_ml']]))\n",
        "print('Mean abs error: ',mean_absolute_error(test_set[['charge_need']], test_set[['bad_ml']]))\n"
      ],
      "execution_count": null,
      "outputs": [
        {
          "output_type": "stream",
          "text": [
            "\n",
            " Calculating charge need using predicted soc\n",
            "\n",
            "R2:  0.5974711762524749\n",
            "Max error:  19.51\n",
            "Mean abs error:  1.821389829361714\n",
            "\n",
            " Predicting charge need using ML\n",
            "\n",
            "R2:  0.29557103307310706\n",
            "Max error:  19.51\n",
            "Mean abs error:  3.0856675645948566\n"
          ],
          "name": "stdout"
        }
      ]
    },
    {
      "cell_type": "markdown",
      "metadata": {
        "id": "UCg4GbTWIA2j"
      },
      "source": [
        "**Our models for the second task haven't actually seen the data where a charger has no car connected which should make the results a bit worse.**"
      ]
    },
    {
      "cell_type": "markdown",
      "metadata": {
        "id": "E1u5gwIJqCuf"
      },
      "source": [
        "# **Some backend prototyping**"
      ]
    },
    {
      "cell_type": "code",
      "metadata": {
        "id": "Aiz2B5wAWCBs"
      },
      "source": [
        "# find all the chargers connected to a certain grid\n",
        "\n",
        "gc_dataset = grid_locations.copy()\n",
        "gc_dataset.drop(['address', 'latitude', 'longitude', 'x', 'y', 'max_current'], axis=1, inplace=True)\n",
        "chargers = []\n",
        "\n",
        "for i, row in gc_dataset.iterrows():\n",
        "  grid_chargers = all_charger_locations[all_charger_locations['closest_grid'] == row['cadaster']]\n",
        "  # basically all pairs of charger cadaster/charge need for this grid at this time\n",
        "  out = [charger['cadaster'] for _, charger in grid_chargers.iterrows()]\n",
        "  chargers.append(out)\n",
        "\n",
        "gc_dataset['chargers'] = chargers"
      ],
      "execution_count": null,
      "outputs": []
    }
  ]
}